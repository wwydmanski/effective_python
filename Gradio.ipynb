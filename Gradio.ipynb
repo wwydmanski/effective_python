{
 "cells": [
  {
   "cell_type": "markdown",
   "id": "eb85843e-a8a1-48a6-8d32-9708dfb22a55",
   "metadata": {},
   "source": [
    "# Gradio\n",
    "Tutorial Gradio podążający za https://gradio.app/quickstart/"
   ]
  },
  {
   "cell_type": "code",
   "execution_count": 9,
   "id": "22bb3297-58a3-403c-ab80-9e95bca90147",
   "metadata": {},
   "outputs": [],
   "source": [
    "import gradio as gr\n",
    "import numpy as np"
   ]
  },
  {
   "cell_type": "markdown",
   "id": "34df7103-2620-4276-8007-911998b85bf0",
   "metadata": {},
   "source": [
    "## Najprostszy interface"
   ]
  },
  {
   "cell_type": "code",
   "execution_count": 41,
   "id": "c2ecad8f-1d00-40c4-8e1e-473bdc67039b",
   "metadata": {},
   "outputs": [
    {
     "name": "stdout",
     "output_type": "stream",
     "text": [
      "Running on local URL:  http://127.0.0.1:7895\n",
      "\n",
      "To create a public link, set `share=True` in `launch()`.\n"
     ]
    },
    {
     "data": {
      "text/html": [
       "<div><iframe src=\"http://127.0.0.1:7895/\" width=\"100%\" height=\"500\" allow=\"autoplay; camera; microphone; clipboard-read; clipboard-write;\" frameborder=\"0\" allowfullscreen></iframe></div>"
      ],
      "text/plain": [
       "<IPython.core.display.HTML object>"
      ]
     },
     "metadata": {},
     "output_type": "display_data"
    },
    {
     "data": {
      "text/plain": []
     },
     "execution_count": 41,
     "metadata": {},
     "output_type": "execute_result"
    }
   ],
   "source": [
    "def greet(name):\n",
    "    return \"Hello \" + name + \"!\"\n",
    "\n",
    "gr.Interface(greet, \"text\", \"text\").launch()"
   ]
  },
  {
   "cell_type": "markdown",
   "id": "c6d8151e-75eb-4fde-9996-cc3fcca99051",
   "metadata": {},
   "source": [
    "## Funkcje mogą być arbitralne, jedyne co się liczy to przyjmowane i zwracane wartości"
   ]
  },
  {
   "cell_type": "code",
   "execution_count": 16,
   "id": "8b19c3e0-7987-48f4-98a2-72ac3e81b830",
   "metadata": {},
   "outputs": [
    {
     "name": "stdout",
     "output_type": "stream",
     "text": [
      "Running on local URL:  http://127.0.0.1:7871\n",
      "\n",
      "To create a public link, set `share=True` in `launch()`.\n"
     ]
    },
    {
     "data": {
      "text/html": [
       "<div><iframe src=\"http://127.0.0.1:7871/\" width=\"100%\" height=\"500\" allow=\"autoplay; camera; microphone; clipboard-read; clipboard-write;\" frameborder=\"0\" allowfullscreen></iframe></div>"
      ],
      "text/plain": [
       "<IPython.core.display.HTML object>"
      ]
     },
     "metadata": {},
     "output_type": "display_data"
    },
    {
     "data": {
      "text/plain": []
     },
     "execution_count": 16,
     "metadata": {},
     "output_type": "execute_result"
    }
   ],
   "source": [
    "def flip_img(image):\n",
    "    return np.fliplr(image)\n",
    "\n",
    "gr.Interface(flip_img, \"image\", \"image\").launch()"
   ]
  },
  {
   "cell_type": "markdown",
   "id": "f77dc286-f0e7-4153-9de0-83b935c82a52",
   "metadata": {},
   "source": [
    "## Mamy też do dyspozycji inny typ interfejsu: `Blocks`"
   ]
  },
  {
   "cell_type": "code",
   "execution_count": 19,
   "id": "57fc1cb8-27ce-48c4-a0e2-1eab9f502b54",
   "metadata": {},
   "outputs": [
    {
     "name": "stdout",
     "output_type": "stream",
     "text": [
      "Running on local URL:  http://127.0.0.1:7873\n",
      "\n",
      "To create a public link, set `share=True` in `launch()`.\n"
     ]
    },
    {
     "data": {
      "text/html": [
       "<div><iframe src=\"http://127.0.0.1:7873/\" width=\"100%\" height=\"500\" allow=\"autoplay; camera; microphone; clipboard-read; clipboard-write;\" frameborder=\"0\" allowfullscreen></iframe></div>"
      ],
      "text/plain": [
       "<IPython.core.display.HTML object>"
      ]
     },
     "metadata": {},
     "output_type": "display_data"
    },
    {
     "data": {
      "text/plain": []
     },
     "execution_count": 19,
     "metadata": {},
     "output_type": "execute_result"
    }
   ],
   "source": [
    "def reverse_string(x):\n",
    "    return x[::-1]\n",
    "\n",
    "with gr.Blocks() as demo:\n",
    "    inputs = gr.Text(label=\"Input\")\n",
    "    output = gr.Text(label=\"output\")\n",
    "    \n",
    "    apply_btn = gr.Button(\"Apply\")\n",
    "    apply_btn.click(reverse_string, inputs=inputs, outputs=output)\n",
    "    \n",
    "demo.launch()"
   ]
  },
  {
   "cell_type": "markdown",
   "id": "0561c27c-3594-45a8-85ca-d554a6111f8e",
   "metadata": {},
   "source": [
    "## Z jego pomocą możemy budować bardziej złożone GUI"
   ]
  },
  {
   "cell_type": "code",
   "execution_count": 45,
   "id": "0014c2ef-19cb-436e-9091-9f4c188b7268",
   "metadata": {},
   "outputs": [
    {
     "name": "stdout",
     "output_type": "stream",
     "text": [
      "Running on local URL:  http://127.0.0.1:7897\n",
      "\n",
      "To create a public link, set `share=True` in `launch()`.\n"
     ]
    },
    {
     "data": {
      "text/html": [
       "<div><iframe src=\"http://127.0.0.1:7897/\" width=\"100%\" height=\"500\" allow=\"autoplay; camera; microphone; clipboard-read; clipboard-write;\" frameborder=\"0\" allowfullscreen></iframe></div>"
      ],
      "text/plain": [
       "<IPython.core.display.HTML object>"
      ]
     },
     "metadata": {},
     "output_type": "display_data"
    },
    {
     "data": {
      "text/plain": []
     },
     "execution_count": 45,
     "metadata": {},
     "output_type": "execute_result"
    }
   ],
   "source": [
    "def reverse_image(inp):\n",
    "    image = inp['image']\n",
    "    \n",
    "    mask = inp['mask'][:, :, 0]\n",
    "    mask = np.expand_dims(mask, -1)/255\n",
    "    \n",
    "    return (image*mask)/255\n",
    "\n",
    "with gr.Blocks() as demo:\n",
    "    with gr.Row():\n",
    "        with gr.Column():\n",
    "            with gr.Row():\n",
    "                mask = gr.ImageMask()\n",
    "        with gr.Column():\n",
    "            output = gr.Image()\n",
    "\n",
    "    with gr.Row():\n",
    "        apply_btn = gr.Button(\"Apply\")\n",
    "\n",
    "    apply_btn.click(reverse_image, inputs=[mask], outputs=output)\n",
    "    examples = gr.Examples(examples=[\"images/Guido_van_Rossum.jpg\"], inputs=mask, outputs=output)\n",
    "    \n",
    "demo.launch()"
   ]
  },
  {
   "cell_type": "markdown",
   "id": "25bfe79d-305e-4a3f-8f3c-2f0abdc7de80",
   "metadata": {},
   "source": [
    "## Na przykład "
   ]
  }
 ],
 "metadata": {
  "kernelspec": {
   "display_name": "nlp",
   "language": "python",
   "name": "nlp"
  },
  "language_info": {
   "codemirror_mode": {
    "name": "ipython",
    "version": 3
   },
   "file_extension": ".py",
   "mimetype": "text/x-python",
   "name": "python",
   "nbconvert_exporter": "python",
   "pygments_lexer": "ipython3",
   "version": "3.8.10"
  }
 },
 "nbformat": 4,
 "nbformat_minor": 5
}
