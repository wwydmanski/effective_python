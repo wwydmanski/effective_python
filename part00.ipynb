{
 "cells": [
  {
   "cell_type": "markdown",
   "metadata": {
    "slideshow": {
     "slide_type": "slide"
    }
   },
   "source": [
    "# Efektywne programowanie w języku Python"
   ]
  },
  {
   "cell_type": "markdown",
   "metadata": {
    "slideshow": {
     "slide_type": "slide"
    }
   },
   "source": [
    "## Prowadzący\n",
    "- dr Krzysztof Misztal, krzysztof.misztal@uj.edu.pl, pokój 2164"
   ]
  },
  {
   "cell_type": "markdown",
   "metadata": {
    "collapsed": true,
    "slideshow": {
     "slide_type": "slide"
    }
   },
   "source": [
    "## Sprawy organizacyjne"
   ]
  },
  {
   "cell_type": "markdown",
   "metadata": {
    "slideshow": {
     "slide_type": "slide"
    }
   },
   "source": [
    "#### Kryteria oceny\n",
    "\n",
    "Ocena końcowa z przedmiotu wystawiana jest na podstawie poniższej listy aktywności"
   ]
  },
  {
   "cell_type": "markdown",
   "metadata": {
    "slideshow": {
     "slide_type": "subslide"
    }
   },
   "source": [
    "- (70p) **Kolokwia (zadania rozwiązywane samodzielnie na laboratorium)**\n",
    "\n",
    "    Planowane są dwa kolokwia po 35 punktów każde. \n",
    "    Terminy kolokwiów zostaną podane w najbliższym czasie. Prawdopodobnie kolokwia będą się odbywać na wykładzie. Kolokwium piszą wszyscy w tym samym terminie.\n",
    "    \n",
    "    Kolokwia należy zaliczyć, tzn. uzyskać co najmiej 12 punktów na 35 punktów z każdego, i nie mniej niż 35 punktów z obu - **w przeciwnym przypadku osoba pisze egzamin**.\n",
    "    \n",
    "> Uwaga: Na kolokwium nie można cofać do poprzedniego pytania, a kolejność pytań jest losowa\n",
    "    "
   ]
  },
  {
   "cell_type": "markdown",
   "metadata": {
    "slideshow": {
     "slide_type": "subslide"
    }
   },
   "source": [
    "- (20p) **Aktywność w czasie laboratoriów**\n",
    "\n",
    "    Aktywne uczestnictwo w laboratoriach [subiektywna ocena ćwiczeniowca], m.in. rozwiązywanie zadań podanych podczas zajęć, udział w nich poprzez zadawanie pytań, prowadzenie merytorycznej dyskusji."
   ]
  },
  {
   "cell_type": "markdown",
   "metadata": {
    "slideshow": {
     "slide_type": "subslide"
    }
   },
   "source": [
    "- (10p) **Krótkie prezentacje w czasie laboratoriów**\n",
    "\n",
    "    Na wykładzie będą ogłaszane, krótkie pytania do rozważania/wyszukania. Prezentacja każdego z takich zagadanień będzie oceniana przez wykładowcę w skali od 0 do 5 punktów. Jedna osoba nie może zaprezentować więcej niż 4 odpowiedzi na takie pytania i nie może zgromadzić więcej niż 10 punktów. \n",
    "    \n",
    "    Przykład: jak działa `timeit`"
   ]
  },
  {
   "cell_type": "markdown",
   "metadata": {
    "slideshow": {
     "slide_type": "subslide"
    }
   },
   "source": [
    "- (10p) **Krótkie prezentacje w czasie wykładów**\n",
    "\n",
    "    Na wykładzie pojawi się krótka lista około 10-20 zagadanień, za których prezentację każdy student może otrzymać bonusowe 10 punków."
   ]
  },
  {
   "cell_type": "markdown",
   "metadata": {
    "slideshow": {
     "slide_type": "subslide"
    }
   },
   "source": [
    "Czyli w sumie:\n",
    "- (70p) **Kolokwia**\n",
    "- (20p) **Aktywność w czasie laboratoriów**\n",
    "- (10p) **Krótkie prezentacje w czasie laboratoriów**\n",
    "\n",
    "uzyskujemy 100p."
   ]
  },
  {
   "cell_type": "markdown",
   "metadata": {
    "slideshow": {
     "slide_type": "slide"
    }
   },
   "source": [
    "#### (Nie)Obecności \n",
    "Obecność na laboratoriach jest obowiązkowa. Dopuszcza się dwie nieobecności, bez konieczności usprawiedliwienia. Przekroczenie tego limitu powoduje niezaliczenie przedmiotu, niezależy od liczby zdobytych punktów. \n",
    "\n",
    "Dla osób, które nie będą mogły uczestniczy, w którym kolwiek kolokwium organizowane jest dodatkowe kolokwium w terminie sesji z zagadnień zwiazanych z całym materiałem przerobionym na laboratoriach."
   ]
  },
  {
   "cell_type": "markdown",
   "metadata": {
    "slideshow": {
     "slide_type": "slide"
    }
   },
   "source": [
    "#### Egzamin\n",
    "Odbędzie się w dniu 26.01.2021. Egamin będzie polegał na rozwiązaniu 3 zadań wylosowanych przez studenta z puli. Egzamin będzie przeprowadzony w formie rozmowy na MS Team, w której uczestniczy student i prowadzący zajęcia, na które uczestniczył oraz wykładowca. Czas egzaminu to maksymalnie 10 minut na osobę."
   ]
  },
  {
   "cell_type": "markdown",
   "metadata": {
    "slideshow": {
     "slide_type": "slide"
    }
   },
   "source": [
    "#### Stopnie\n",
    "\n",
    "Ocena końcowa to:\n",
    "- ocena z ćwiczeń w przypadku zaliczenia kolokwiów jak wspomniano wyżej. Około 20% studentów, którzy uzyskają najlepsze wyniki na kolokwium zostanie zwolniona z egzaminu i otrzyma ocenę taką samą jak z ćwiczeń.\n",
    "- średnia wyniku z egzaminu (w skali 0-100%) oraz z ćwiczeń (0-100%)\n",
    "\n",
    "Zaliczenie przedmiotu wymaga uzyskania 50% maksymalnej liczby punktów. Oceny wystawiane są według skali\n",
    "\n",
    "| ocena   | punkty      |\n",
    "|:--------:|:-----------:| \n",
    "| 5.0      | [90%, 100%) |\n",
    "| 4.5      | [80%, 90%)  |\n",
    "| 4.0      | [70%, 80%)  |\n",
    "| 3.5      | [60%, 70%)  |\n",
    "| 3.0      | [50%, 60%)  |"
   ]
  },
  {
   "cell_type": "markdown",
   "metadata": {
    "slideshow": {
     "slide_type": "slide"
    }
   },
   "source": [
    "#### Uwagi:\n",
    "1. Nie jest możliwe przepisywanie oceny na podstawie zajęć zrealizowanych na I stopniu studiów."
   ]
  },
  {
   "cell_type": "markdown",
   "metadata": {
    "slideshow": {
     "slide_type": "slide"
    }
   },
   "source": [
    "## Materiały\n",
    "\n",
    "Kurs jest oparty m.in. na:\n",
    "- http://stanfordpython.com\n",
    "- https://stanford.edu/~schmit/cme193/project.html\n",
    "- https://github.com/gmum/python-lecture\n",
    "- http://workshop-python.readthedocs.io"
   ]
  },
  {
   "cell_type": "markdown",
   "metadata": {
    "slideshow": {
     "slide_type": "slide"
    }
   },
   "source": [
    "## Podstawowe cele tego przedmiotu to:\n",
    "\n",
    "1. Rozwijanie umiętności pisania kodu w Pythonie.\n",
    "2. Nauczenie rozpoznawania \"dobrego\" Pythona.\n",
    "3. Podniesienie doświadczenia w rozwiązywaniu zagadnień programistycznych w Pythonie.\n",
    "4. Zrozumienie kiedy należy a kiedy nie używać Pythona."
   ]
  },
  {
   "cell_type": "markdown",
   "metadata": {
    "slideshow": {
     "slide_type": "slide"
    }
   },
   "source": [
    "## Tematyka\n",
    "\n",
    "- Wprowadzenie do programowania w Pythonie (rozgrzewka, data structures, functions)\n",
    "- Functional programming\n",
    "- Object-oriented Python\n",
    "- Standard library\n",
    "- Cython, Jython, PyPy\n",
    "- Third-party tools: `Pillow`, `scikit-image` – manipulacja  obrazami; `numpy`, `scipy` – obliczenia numeryczne; `matplotlib`, `PyGoogleChart` – tworzenie wykresów; `scikit-learn` – metody uczenia maszynowego; `pandas`, `h5py` – obsługa dużych plików; `django`\n",
    "- Testowanie\n",
    "- Niecodzienne aspekty Pythona\n"
   ]
  }
 ],
 "metadata": {
  "celltoolbar": "Slideshow",
  "kernelspec": {
   "display_name": "Python 3 (ipykernel)",
   "language": "python",
   "name": "python3"
  },
  "language_info": {
   "codemirror_mode": {
    "name": "ipython",
    "version": 3
   },
   "file_extension": ".py",
   "mimetype": "text/x-python",
   "name": "python",
   "nbconvert_exporter": "python",
   "pygments_lexer": "ipython3",
   "version": "3.9.9"
  }
 },
 "nbformat": 4,
 "nbformat_minor": 1
}
