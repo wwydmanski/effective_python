{
 "cells": [
  {
   "cell_type": "markdown",
   "metadata": {
    "slideshow": {
     "slide_type": "slide"
    }
   },
   "source": [
    "# Efektywne programowanie w języku Python \n",
    "\n",
    "## wykład 2"
   ]
  },
  {
   "cell_type": "code",
   "execution_count": null,
   "metadata": {},
   "outputs": [],
   "source": []
  },
  {
   "cell_type": "markdown",
   "metadata": {
    "slideshow": {
     "slide_type": "slide"
    }
   },
   "source": [
    "## Do you know that?"
   ]
  },
  {
   "cell_type": "markdown",
   "metadata": {
    "slideshow": {
     "slide_type": "subslide"
    }
   },
   "source": [
    "### Explicit line joining"
   ]
  },
  {
   "cell_type": "code",
   "execution_count": null,
   "metadata": {
    "slideshow": {
     "slide_type": "fragment"
    }
   },
   "outputs": [],
   "source": [
    "if 1900 < year < 2100 and 1 <= month <= 12 \\\n",
    "   and 1 <= day <= 31 and 0 <= hour < 24 \\\n",
    "   and 0 <= minute < 60 and 0 <= second < 60:   # Looks like a valid date\n",
    "        return 1"
   ]
  },
  {
   "cell_type": "markdown",
   "metadata": {
    "slideshow": {
     "slide_type": "fragment"
    }
   },
   "source": [
    "Two or more physical lines may be joined into logical lines using backslash characters (\\), as follows: when a physical line ends in a backslash that is not part of a string literal or comment, it is joined with the following forming a single logical line, deleting the backslash and the following end-of-line character."
   ]
  },
  {
   "cell_type": "markdown",
   "metadata": {
    "slideshow": {
     "slide_type": "subslide"
    }
   },
   "source": [
    "###  String literal concatenation"
   ]
  },
  {
   "cell_type": "code",
   "execution_count": null,
   "metadata": {
    "slideshow": {
     "slide_type": "fragment"
    }
   },
   "outputs": [],
   "source": [
    "re.compile(\"[A-Za-z_]\"       # letter or underscore\n",
    "           \"[A-Za-z0-9_]*\"   # letter, digit or underscore\n",
    "          )"
   ]
  },
  {
   "cell_type": "markdown",
   "metadata": {
    "slideshow": {
     "slide_type": "fragment"
    }
   },
   "source": [
    "Multiple adjacent string or bytes literals (delimited by whitespace), possibly using different quoting conventions, are allowed, and their meaning is the same as their concatenation. Thus, \"hello\" 'world' is equivalent to \"helloworld\"."
   ]
  },
  {
   "cell_type": "markdown",
   "metadata": {
    "slideshow": {
     "slide_type": "fragment"
    }
   },
   "source": [
    "Note that this feature is defined at the syntactical level, but implemented at compile time. The ‘+’ operator must be used to concatenate string expressions at run time."
   ]
  },
  {
   "cell_type": "markdown",
   "metadata": {
    "slideshow": {
     "slide_type": "subslide"
    }
   },
   "source": [
    "### We can use semicolons!!!"
   ]
  },
  {
   "cell_type": "code",
   "execution_count": null,
   "metadata": {
    "slideshow": {
     "slide_type": "fragment"
    }
   },
   "outputs": [],
   "source": [
    "x, y, z = 3, 1, 2"
   ]
  },
  {
   "cell_type": "code",
   "execution_count": null,
   "metadata": {
    "slideshow": {
     "slide_type": "fragment"
    }
   },
   "outputs": [],
   "source": [
    "if x < y < z: print(x); print(y); print(z)"
   ]
  },
  {
   "cell_type": "markdown",
   "metadata": {
    "slideshow": {
     "slide_type": "slide"
    }
   },
   "source": [
    "## What is truth?"
   ]
  },
  {
   "cell_type": "code",
   "execution_count": null,
   "metadata": {
    "slideshow": {
     "slide_type": "fragment"
    }
   },
   "outputs": [],
   "source": [
    "# 'Falsy'\n",
    "bool(None)\n",
    "bool(False)\n",
    "bool(0)\n",
    "bool(0.0)\n",
    "bool('')"
   ]
  },
  {
   "cell_type": "code",
   "execution_count": null,
   "metadata": {
    "slideshow": {
     "slide_type": "subslide"
    }
   },
   "outputs": [],
   "source": [
    "# Empty data structures are 'falsy'\n",
    "bool([]) # => False"
   ]
  },
  {
   "cell_type": "code",
   "execution_count": null,
   "metadata": {
    "slideshow": {
     "slide_type": "fragment"
    }
   },
   "outputs": [],
   "source": [
    "# How should we check for an empty list?\n",
    "data = []\n",
    "if data:\n",
    "    process(data):\n",
    "else:\n",
    "    print(\"There's no data!\")"
   ]
  },
  {
   "cell_type": "markdown",
   "metadata": {
    "slideshow": {
     "slide_type": "fragment"
    }
   },
   "source": [
    "> goto opt02 :) part 1"
   ]
  },
  {
   "cell_type": "code",
   "execution_count": null,
   "metadata": {
    "slideshow": {
     "slide_type": "subslide"
    }
   },
   "outputs": [],
   "source": [
    "#You should not use \n",
    "if expr == True:\n",
    "    pass\n",
    "\n",
    "# or\n",
    "if len(data) == 0:\n",
    "    pass"
   ]
  },
  {
   "cell_type": "markdown",
   "metadata": {
    "slideshow": {
     "slide_type": "slide"
    }
   },
   "source": [
    "## Range"
   ]
  },
  {
   "cell_type": "code",
   "execution_count": null,
   "metadata": {
    "slideshow": {
     "slide_type": "fragment"
    }
   },
   "outputs": [],
   "source": [
    "range(3)\n",
    "# generates 0, 1, 2\n",
    "\n",
    "range(5, 10)\n",
    "# generates 5, 6, 7, 8, 9\n",
    "\n",
    "range(2, 12, 3)\n",
    "# generates 2, 5, 8, 11\n",
    "\n",
    "range(-7, -30, -5)\n",
    "# generates -7, -12, -17, -22, -27"
   ]
  },
  {
   "cell_type": "code",
   "execution_count": 1,
   "metadata": {
    "slideshow": {
     "slide_type": "subslide"
    }
   },
   "outputs": [
    {
     "name": "stdout",
     "output_type": "stream",
     "text": [
      "<class 'range'>\n",
      "range(0, 10)\n"
     ]
    }
   ],
   "source": [
    "v = range(10)\n",
    "print(type(v))\n",
    "print(v)"
   ]
  },
  {
   "cell_type": "markdown",
   "metadata": {
    "slideshow": {
     "slide_type": "fragment"
    }
   },
   "source": [
    "co tutaj dostaniemy?"
   ]
  },
  {
   "cell_type": "code",
   "execution_count": 2,
   "metadata": {
    "slideshow": {
     "slide_type": "fragment"
    }
   },
   "outputs": [
    {
     "name": "stdout",
     "output_type": "stream",
     "text": [
      "Help on class range in module builtins:\n",
      "\n",
      "class range(object)\n",
      " |  range(stop) -> range object\n",
      " |  range(start, stop[, step]) -> range object\n",
      " |  \n",
      " |  Return an object that produces a sequence of integers from start (inclusive)\n",
      " |  to stop (exclusive) by step.  range(i, j) produces i, i+1, i+2, ..., j-1.\n",
      " |  start defaults to 0, and stop is omitted!  range(4) produces 0, 1, 2, 3.\n",
      " |  These are exactly the valid indices for a list of 4 elements.\n",
      " |  When step is given, it specifies the increment (or decrement).\n",
      " |  \n",
      " |  Methods defined here:\n",
      " |  \n",
      " |  __bool__(self, /)\n",
      " |      self != 0\n",
      " |  \n",
      " |  __contains__(self, key, /)\n",
      " |      Return key in self.\n",
      " |  \n",
      " |  __eq__(self, value, /)\n",
      " |      Return self==value.\n",
      " |  \n",
      " |  __ge__(self, value, /)\n",
      " |      Return self>=value.\n",
      " |  \n",
      " |  __getattribute__(self, name, /)\n",
      " |      Return getattr(self, name).\n",
      " |  \n",
      " |  __getitem__(self, key, /)\n",
      " |      Return self[key].\n",
      " |  \n",
      " |  __gt__(self, value, /)\n",
      " |      Return self>value.\n",
      " |  \n",
      " |  __hash__(self, /)\n",
      " |      Return hash(self).\n",
      " |  \n",
      " |  __iter__(self, /)\n",
      " |      Implement iter(self).\n",
      " |  \n",
      " |  __le__(self, value, /)\n",
      " |      Return self<=value.\n",
      " |  \n",
      " |  __len__(self, /)\n",
      " |      Return len(self).\n",
      " |  \n",
      " |  __lt__(self, value, /)\n",
      " |      Return self<value.\n",
      " |  \n",
      " |  __ne__(self, value, /)\n",
      " |      Return self!=value.\n",
      " |  \n",
      " |  __new__(*args, **kwargs) from builtins.type\n",
      " |      Create and return a new object.  See help(type) for accurate signature.\n",
      " |  \n",
      " |  __reduce__(...)\n",
      " |      helper for pickle\n",
      " |  \n",
      " |  __repr__(self, /)\n",
      " |      Return repr(self).\n",
      " |  \n",
      " |  __reversed__(...)\n",
      " |      Return a reverse iterator.\n",
      " |  \n",
      " |  count(...)\n",
      " |      rangeobject.count(value) -> integer -- return number of occurrences of value\n",
      " |  \n",
      " |  index(...)\n",
      " |      rangeobject.index(value, [start, [stop]]) -> integer -- return index of value.\n",
      " |      Raise ValueError if the value is not present.\n",
      " |  \n",
      " |  ----------------------------------------------------------------------\n",
      " |  Data descriptors defined here:\n",
      " |  \n",
      " |  start\n",
      " |  \n",
      " |  step\n",
      " |  \n",
      " |  stop\n",
      "\n"
     ]
    }
   ],
   "source": [
    "help(range)"
   ]
  },
  {
   "cell_type": "markdown",
   "metadata": {
    "collapsed": true,
    "slideshow": {
     "slide_type": "slide"
    }
   },
   "source": [
    "## Data structures"
   ]
  },
  {
   "cell_type": "markdown",
   "metadata": {
    "slideshow": {
     "slide_type": "slide"
    }
   },
   "source": [
    "### 1. Lists"
   ]
  },
  {
   "cell_type": "markdown",
   "metadata": {
    "slideshow": {
     "slide_type": "fragment"
    }
   },
   "source": [
    "> Finite, ordered, mutable sequence of elements"
   ]
  },
  {
   "cell_type": "code",
   "execution_count": null,
   "metadata": {
    "slideshow": {
     "slide_type": "fragment"
    }
   },
   "outputs": [],
   "source": [
    "simple_list = [1, 2, 3]"
   ]
  },
  {
   "cell_type": "code",
   "execution_count": null,
   "metadata": {
    "slideshow": {
     "slide_type": "subslide"
    }
   },
   "outputs": [],
   "source": [
    "# Create a new list\n",
    "empty = []\n",
    "empty2 = list()\n",
    "letters = ['a', 'b', 'c', 'd']\n",
    "numbers = [2, 3, 5]"
   ]
  },
  {
   "cell_type": "code",
   "execution_count": null,
   "metadata": {
    "slideshow": {
     "slide_type": "fragment"
    }
   },
   "outputs": [],
   "source": [
    "# Lists can contain elements of different types\n",
    "mixed = [4, 5, \"seconds\"]"
   ]
  },
  {
   "cell_type": "code",
   "execution_count": null,
   "metadata": {
    "slideshow": {
     "slide_type": "fragment"
    }
   },
   "outputs": [],
   "source": [
    "# Append elements to the end of a list\n",
    "numbers.append(7) # numbers == [2, 3, 5, 7]\n",
    "numbers.append(11) # numbers == [2, 3, 5, 7, 11]"
   ]
  },
  {
   "cell_type": "code",
   "execution_count": null,
   "metadata": {
    "slideshow": {
     "slide_type": "fragment"
    }
   },
   "outputs": [],
   "source": [
    "# Access elements at a particular index\n",
    "numbers[0] # => 2\n",
    "numbers[-1] # => 11"
   ]
  },
  {
   "cell_type": "code",
   "execution_count": null,
   "metadata": {
    "slideshow": {
     "slide_type": "fragment"
    }
   },
   "outputs": [],
   "source": [
    "# You can also slice lists - the usual rules apply\n",
    "letters[:3] # => ['a', 'b', 'c']\n",
    "numbers[1:-1] # => [3, 5, 7]"
   ]
  },
  {
   "cell_type": "code",
   "execution_count": null,
   "metadata": {
    "slideshow": {
     "slide_type": "subslide"
    }
   },
   "outputs": [],
   "source": [
    "# Nested lists\n",
    "#\n",
    "# Lists really can contain anything - even other lists!\n",
    "x = [letters, numbers]\n",
    "x # => [['a', 'b', 'c', 'd'], [2, 3, 5, 7, 11]]\n",
    "x[0] # => ['a', 'b', 'c', 'd']\n",
    "x[0][1] # => 'b'\n",
    "x[1][2:] # => [5, 7, 11]"
   ]
  },
  {
   "cell_type": "markdown",
   "metadata": {
    "slideshow": {
     "slide_type": "subslide"
    }
   },
   "source": [
    "Methods reference"
   ]
  },
  {
   "cell_type": "code",
   "execution_count": null,
   "metadata": {
    "slideshow": {
     "slide_type": "subslide"
    }
   },
   "outputs": [],
   "source": [
    "# Extend list by appending elements from the iterable\n",
    "my_list.extend(iterable)\n",
    "# Insert object before index\n",
    "my_list.insert(index, object)\n",
    "# Remove first occurrence of value, or raise ValueError\n",
    "my_list.remove(value)\n",
    "# Remove all items\n",
    "my_list.clear()"
   ]
  },
  {
   "cell_type": "code",
   "execution_count": null,
   "metadata": {
    "slideshow": {
     "slide_type": "subslide"
    }
   },
   "outputs": [],
   "source": [
    "# Return number of occurrences of value\n",
    "my_list.count(value)\n",
    "# Return first index of value, or raise ValueError\n",
    "my_list.index(value, [start, [stop]])\n",
    "# Remove, return item at index (def. last) or IndexError\n",
    "my_list.pop([index])\n",
    "# Stable sort *in place*\n",
    "my_list.sort(key=None, reverse=False)\n",
    "# Reverse *in place*.\n",
    "my_list.reverse()"
   ]
  },
  {
   "cell_type": "code",
   "execution_count": null,
   "metadata": {
    "slideshow": {
     "slide_type": "subslide"
    }
   },
   "outputs": [],
   "source": [
    "# Length (len)\n",
    "len([]) # => 0\n",
    "len(\"python\") # => 6\n",
    "len([4,5,\"seconds\"]) # => 3"
   ]
  },
  {
   "cell_type": "code",
   "execution_count": null,
   "metadata": {
    "slideshow": {
     "slide_type": "fragment"
    }
   },
   "outputs": [],
   "source": [
    "# Membership (in)\n",
    "0 in [] # => False\n",
    "'y' in 'python' # => True\n",
    "'minutes' in [4, 5, 'seconds'] # => False"
   ]
  },
  {
   "cell_type": "markdown",
   "metadata": {
    "slideshow": {
     "slide_type": "slide"
    }
   },
   "source": [
    "### 2. Dictionary"
   ]
  },
  {
   "cell_type": "markdown",
   "metadata": {
    "slideshow": {
     "slide_type": "fragment"
    }
   },
   "source": [
    "> Mutable map from hashable values to arbitrary objects"
   ]
  },
  {
   "cell_type": "markdown",
   "metadata": {
    "slideshow": {
     "slide_type": "fragment"
    }
   },
   "source": [
    "Keys can be a variety of types, as long as they are hashable. Values can be a variety of types too."
   ]
  },
  {
   "cell_type": "code",
   "execution_count": 6,
   "metadata": {
    "slideshow": {
     "slide_type": "subslide"
    }
   },
   "outputs": [
    {
     "data": {
      "text/plain": [
       "True"
      ]
     },
     "execution_count": 6,
     "metadata": {},
     "output_type": "execute_result"
    }
   ],
   "source": [
    "empty = {}\n",
    "type(empty) # => dict\n",
    "empty == dict() # => True"
   ]
  },
  {
   "cell_type": "code",
   "execution_count": 9,
   "metadata": {
    "slideshow": {
     "slide_type": "fragment"
    }
   },
   "outputs": [
    {
     "data": {
      "text/plain": [
       "True"
      ]
     },
     "execution_count": 9,
     "metadata": {},
     "output_type": "execute_result"
    }
   ],
   "source": [
    "a = dict(one=1, two=2, three=3)\n",
    "b = {\"one\": 1, \"two\": 2, \"three\": 3}\n",
    "a == b # => True"
   ]
  },
  {
   "cell_type": "code",
   "execution_count": null,
   "metadata": {
    "slideshow": {
     "slide_type": "subslide"
    }
   },
   "outputs": [],
   "source": [
    "b = {\"one\": 1, \"two\": 2, \"three\": 3}\n",
    "\n",
    "# Get\n",
    "d['one'] # => 1\n",
    "d['five'] # raises KeyError\n",
    "\n",
    "# Set\n",
    "d['two'] = 22 # Modify an existing key\n",
    "d['four'] = 4 # Add a new key"
   ]
  },
  {
   "cell_type": "code",
   "execution_count": null,
   "metadata": {
    "slideshow": {
     "slide_type": "subslide"
    }
   },
   "outputs": [],
   "source": [
    "d = {\"CS\":[106, 107, 110], \"MATH\": [51, 113]}\n",
    "\n",
    "d[\"COMPSCI\"] # raises KeyError\n",
    "\n",
    "# Use get() method to avoid the KeyError\n",
    "d.get(\"CS\") # => [106, 107, 110]\n",
    "d.get(\"PHIL\") # => None (not a KeyError!)\n",
    "\n",
    "english_classes = d.get(\"ENGLISH\", [])\n",
    "num_english = len(english_classes)"
   ]
  },
  {
   "cell_type": "code",
   "execution_count": null,
   "metadata": {
    "slideshow": {
     "slide_type": "subslide"
    }
   },
   "outputs": [],
   "source": [
    "d = {\"one\": 1, \"two\": 2, \"three\": 3}\n",
    "\n",
    "#Raises KeyError if invalid key\n",
    "del d[\"one\"]\n",
    "\n",
    "#Remove and return d['three'] or default value if not in the map\n",
    "d.pop(\"three\", default) # => 3\n",
    "\n",
    "# Remove and return an arbitrary (key, value) pair. Useful for destructive iteration\n",
    "d.popitem() # => (\"two\", 2)"
   ]
  },
  {
   "cell_type": "code",
   "execution_count": null,
   "metadata": {
    "slideshow": {
     "slide_type": "subslide"
    }
   },
   "outputs": [],
   "source": [
    "d = {\"one\": 1, \"two\": 2, \"three\": 3}\n",
    "\n",
    "# These dictionary views are dynamic, reflecting changes in the underlying dictionary!\n",
    "d.keys()\n",
    "d.values()\n",
    "d.items()\n",
    "\n",
    "('one', 1) in d.items()"
   ]
  },
  {
   "cell_type": "code",
   "execution_count": null,
   "metadata": {
    "slideshow": {
     "slide_type": "subslide"
    }
   },
   "outputs": [],
   "source": [
    "len(d)\n",
    "\n",
    "key in d # equiv. to `key in d.keys()`\n",
    "\n",
    "value in d.values()\n",
    "\n",
    "d.copy()\n",
    "d.clear()\n",
    "\n",
    "for key in d: # equiv. to `for key in d.keys():`\n",
    "    print(key)\n",
    "    \n",
    "    \n",
    "for k, v in d.items()\n",
    "    print(k, ': ', v)"
   ]
  },
  {
   "cell_type": "markdown",
   "metadata": {
    "collapsed": true,
    "slideshow": {
     "slide_type": "slide"
    }
   },
   "source": [
    "### 3. Tuples"
   ]
  },
  {
   "cell_type": "markdown",
   "metadata": {
    "slideshow": {
     "slide_type": "fragment"
    }
   },
   "source": [
    "> Immutable Sequences\n",
    ">\n",
    "> To:\n",
    "> 1. Store collections of heterogeneous data\n",
    "> 2. \"Freeze\" sequence to ensure hashability\n",
    "> 3. Enforce immutability for fixed-size collections"
   ]
  },
  {
   "cell_type": "code",
   "execution_count": null,
   "metadata": {
    "slideshow": {
     "slide_type": "subslide"
    }
   },
   "outputs": [],
   "source": [
    "fish = (1, 2, \"red\", \"blue\")\n",
    "fish[0] # => 1\n",
    "fish[0] = 7 # Raises a TypeError"
   ]
  },
  {
   "cell_type": "code",
   "execution_count": null,
   "metadata": {
    "slideshow": {
     "slide_type": "fragment"
    }
   },
   "outputs": [],
   "source": [
    "len(fish) # => 4\n",
    "fish[:2] # => (1, 2)\n",
    "\"red\" in fish # => True"
   ]
  },
  {
   "cell_type": "markdown",
   "metadata": {
    "slideshow": {
     "slide_type": "subslide"
    }
   },
   "source": [
    "#### Argument Packing and Unpacking"
   ]
  },
  {
   "cell_type": "code",
   "execution_count": null,
   "metadata": {
    "slideshow": {
     "slide_type": "fragment"
    }
   },
   "outputs": [],
   "source": [
    "# Comma-separated Rvalues are converted to a tuple\n",
    "t = 12345, 54321, 'hello!'\n",
    "print(t) # (12345, 54321, 'hello!')\n",
    "type(t) # => tuple"
   ]
  },
  {
   "cell_type": "code",
   "execution_count": null,
   "metadata": {
    "slideshow": {
     "slide_type": "fragment"
    }
   },
   "outputs": [],
   "source": [
    "# Comma-separated Lvalues are unpacked automatically\n",
    "x, y, z = t\n",
    "x # => 12345\n",
    "y # => 54321\n",
    "z # => 'hello!'"
   ]
  },
  {
   "cell_type": "code",
   "execution_count": null,
   "metadata": {
    "slideshow": {
     "slide_type": "subslide"
    }
   },
   "outputs": [],
   "source": [
    "for index, color in enumerate(['red','green','blue']):\n",
    "    print(index, color)\n",
    "    \n",
    "# =>\n",
    "# 0 red\n",
    "# 1 green\n",
    "# 2 blue\n",
    "\n",
    "# SOOOOoooooo:\n",
    "#This also means you should almost never use\n",
    "for i in range(len(sequence)):\n",
    "    pass"
   ]
  },
  {
   "cell_type": "markdown",
   "metadata": {
    "slideshow": {
     "slide_type": "subslide"
    }
   },
   "source": [
    "> Tuples contain (immutable) references to underlying objects!"
   ]
  },
  {
   "cell_type": "code",
   "execution_count": null,
   "metadata": {
    "slideshow": {
     "slide_type": "fragment"
    }
   },
   "outputs": [],
   "source": [
    "v = ([1, 2, 3], ['a', 'b', 'c'])\n",
    "v[0].append(4)\n",
    "v # => ([1, 2, 3, 4], ['a', 'b', 'c'])"
   ]
  },
  {
   "cell_type": "markdown",
   "metadata": {
    "slideshow": {
     "slide_type": "subslide"
    }
   },
   "source": [
    "A special problem is the construction of tuples containing 0 or 1 items: the syntax has some extra quirks to accommodate these. Empty tuples are constructed by an empty pair of parentheses; a tuple with one item is constructed by following a value with a comma (it is not sufficient to enclose a single value in parentheses). Ugly, but effective. For example:"
   ]
  },
  {
   "cell_type": "code",
   "execution_count": 12,
   "metadata": {},
   "outputs": [
    {
     "name": "stdout",
     "output_type": "stream",
     "text": [
      "('ww',) 1 <class 'tuple'>\n"
     ]
    }
   ],
   "source": [
    "r = \"ww\", \n",
    "print(r, len(r), type(r))"
   ]
  },
  {
   "cell_type": "code",
   "execution_count": null,
   "metadata": {
    "slideshow": {
     "slide_type": "fragment"
    }
   },
   "outputs": [],
   "source": [
    ">>> empty = ()\n",
    ">>> singleton = 'hello',    # <-- note trailing comma\n",
    ">>> len(empty)\n",
    "0\n",
    ">>> len(singleton)\n",
    "1\n",
    ">>> singleton\n",
    "('hello',)"
   ]
  },
  {
   "cell_type": "markdown",
   "metadata": {
    "slideshow": {
     "slide_type": "slide"
    }
   },
   "source": [
    "### 4. Sets"
   ]
  },
  {
   "cell_type": "markdown",
   "metadata": {
    "slideshow": {
     "slide_type": "fragment"
    }
   },
   "source": [
    "> Unordered collection of distinct hashable elements\n",
    ">\n",
    "> To:\n",
    "> 1. Fast membership testing: O(1) vs. O(n)\n",
    "> 2. Eliminate duplicate entries\n",
    "> 3. Easy set operations (intersection, union, etc.)"
   ]
  },
  {
   "cell_type": "code",
   "execution_count": 6,
   "metadata": {
    "slideshow": {
     "slide_type": "fragment"
    }
   },
   "outputs": [],
   "source": [
    "s = {1, 2, 3}"
   ]
  },
  {
   "cell_type": "code",
   "execution_count": null,
   "metadata": {
    "slideshow": {
     "slide_type": "subslide"
    }
   },
   "outputs": [],
   "source": [
    "empty_set = set()\n",
    "set_from_list = set([1, 2, 1, 4, 3]) # => {1, 3, 4, 2}\n",
    "\n",
    "basket = {\"apple\", \"orange\", \"apple\", \"pear\", \"banana\"}\n",
    "len(basket) # => 4\n",
    "\n",
    "\"orange\" in basket # => True\n",
    "\"crabgrass\" in basket # => False\n",
    "\n",
    "for fruit in basket:\n",
    "    print(fruit, end='/')\n",
    "# => pear/banana/apple/orange/"
   ]
  },
  {
   "cell_type": "code",
   "execution_count": null,
   "metadata": {
    "slideshow": {
     "slide_type": "subslide"
    }
   },
   "outputs": [],
   "source": [
    "a = set(\"mississippi\") # {'i', 'm', 'p', 's'}\n",
    "\n",
    "a.add('r')\n",
    "a.remove('m') # raises KeyError if 'm' is not present\n",
    "a.discard('x') # same as remove, except no error\n",
    "\n",
    "a.pop() # => 's' (or 'i' or 'p')\n",
    "\n",
    "a.clear()\n",
    "\n",
    "len(a) # => 0"
   ]
  },
  {
   "cell_type": "code",
   "execution_count": null,
   "metadata": {
    "slideshow": {
     "slide_type": "subslide"
    }
   },
   "outputs": [],
   "source": [
    "a = set(\"abracadabra\") # {'a', 'r', 'b', 'c', 'd'}\n",
    "b = set(\"alacazam\") # {'a', 'm', 'c', 'l', 'z'}\n",
    "\n",
    "# Set difference\n",
    "a - b # => {'r', 'd', 'b'}\n",
    "\n",
    "# Union\n",
    "a | b # => {'a', 'c', 'r', 'd', 'b', 'm', 'z', 'l'}\n",
    "\n",
    "# Intersection\n",
    "a & b # => {'a', 'c'}\n",
    "\n",
    "# Symmetric Difference\n",
    "a ^ b # => {'r', 'd', 'b', 'm', 'z', 'l'}"
   ]
  },
  {
   "cell_type": "markdown",
   "metadata": {
    "slideshow": {
     "slide_type": "subslide"
    }
   },
   "source": [
    "> goto opt02 :) part 2"
   ]
  },
  {
   "cell_type": "markdown",
   "metadata": {
    "slideshow": {
     "slide_type": "slide"
    }
   },
   "source": [
    "### Loops"
   ]
  },
  {
   "cell_type": "markdown",
   "metadata": {
    "slideshow": {
     "slide_type": "subslide"
    }
   },
   "source": [
    "#### Items in Dictionary"
   ]
  },
  {
   "cell_type": "code",
   "execution_count": null,
   "metadata": {
    "slideshow": {
     "slide_type": "fragment"
    }
   },
   "outputs": [],
   "source": [
    "knights = {'gallahad': 'the pure', 'robin': 'the brave'}\n",
    "\n",
    "for k, v in knights.items():\n",
    "    print(k, v)\n",
    "\n",
    "# =>\n",
    "# gallahad the pure\n",
    "# robin the brave"
   ]
  },
  {
   "cell_type": "markdown",
   "metadata": {
    "slideshow": {
     "slide_type": "subslide"
    }
   },
   "source": [
    "#### zip"
   ]
  },
  {
   "cell_type": "code",
   "execution_count": 1,
   "metadata": {
    "slideshow": {
     "slide_type": "fragment"
    }
   },
   "outputs": [
    {
     "name": "stdout",
     "output_type": "stream",
     "text": [
      "What is your name? Lancelot.\n",
      "What is your quest? To seek the holy grail.\n",
      "What is your favorite color? Blue.\n"
     ]
    }
   ],
   "source": [
    "questions = ['name', 'quest', 'favorite color', 'BAD']\n",
    "answers = ['Lancelot', 'To seek the holy grail', 'Blue']\n",
    "\n",
    "for q, a in zip(questions, answers):\n",
    "    print('What is your {0}? {1}.'.format(q, a))\n",
    "\n",
    "# =>\n",
    "# What is your name? Lancelot.\n",
    "# What is your quest? To seek the holy grail.\n",
    "# What is your favorite color? Blue."
   ]
  },
  {
   "cell_type": "markdown",
   "metadata": {
    "slideshow": {
     "slide_type": "fragment"
    }
   },
   "source": [
    "The zip() function generates pairs of entries from its arguments."
   ]
  },
  {
   "cell_type": "code",
   "execution_count": 12,
   "metadata": {},
   "outputs": [
    {
     "name": "stdout",
     "output_type": "stream",
     "text": [
      "('Aston', 'Audi', 'McLaren')\n",
      "('GPS', 'Car Repair', 'Dolby sound kit')\n"
     ]
    }
   ],
   "source": [
    "# Unzip lists \n",
    "l1,l2 = zip(*[('Aston', 'GPS'),  \n",
    "              ('Audi', 'Car Repair'),  \n",
    "              ('McLaren', 'Dolby sound kit')  \n",
    "           ]) \n",
    "# Printing unzipped lists       \n",
    "print(l1) \n",
    "print(l2) "
   ]
  },
  {
   "cell_type": "markdown",
   "metadata": {
    "slideshow": {
     "slide_type": "subslide"
    }
   },
   "source": [
    "#### Reverse Iteration"
   ]
  },
  {
   "cell_type": "code",
   "execution_count": null,
   "metadata": {
    "slideshow": {
     "slide_type": "fragment"
    }
   },
   "outputs": [],
   "source": [
    "for i in reversed(range(1, 10, 2)):\n",
    "    print(i, end=', ')\n",
    "# =>\n",
    "# 9, 7, 5, 3, 1,"
   ]
  },
  {
   "cell_type": "markdown",
   "metadata": {
    "slideshow": {
     "slide_type": "subslide"
    }
   },
   "source": [
    "#### Sorted Iteration"
   ]
  },
  {
   "cell_type": "code",
   "execution_count": 13,
   "metadata": {
    "slideshow": {
     "slide_type": "fragment"
    }
   },
   "outputs": [
    {
     "name": "stdout",
     "output_type": "stream",
     "text": [
      "apple\n",
      "banana\n",
      "orange\n",
      "pear\n",
      "pear\n"
     ]
    }
   ],
   "source": [
    "basket = ['pear', 'banana', 'orange', 'pear', 'apple']\n",
    "\n",
    "for fruit in sorted(basket):\n",
    "    print(fruit)\n",
    "\n",
    "# =>\n",
    "# apple\n",
    "# banana\n",
    "# orange\n",
    "# pear\n",
    "# pear"
   ]
  },
  {
   "cell_type": "markdown",
   "metadata": {
    "slideshow": {
     "slide_type": "fragment"
    }
   },
   "source": [
    "To loop over a sequence in sorted order, use the sorted() function which returns a new sorted list while leaving the source unaltered."
   ]
  },
  {
   "cell_type": "markdown",
   "metadata": {
    "slideshow": {
     "slide_type": "slide"
    }
   },
   "source": [
    "### Comprehensions"
   ]
  },
  {
   "cell_type": "markdown",
   "metadata": {
    "slideshow": {
     "slide_type": "subslide"
    }
   },
   "source": [
    "**List comprehensions** provide a concise way to create lists. Common applications are to make new lists where each element is the result of some operations applied to each member of another sequence or iterable, or to create a subsequence of those elements that satisfy a certain condition."
   ]
  },
  {
   "cell_type": "code",
   "execution_count": null,
   "metadata": {
    "slideshow": {
     "slide_type": "fragment"
    }
   },
   "outputs": [],
   "source": [
    "squares = []\n",
    "for x in range(10):\n",
    "    squares.append(x**2)\n",
    "\n",
    "squares"
   ]
  },
  {
   "cell_type": "code",
   "execution_count": null,
   "metadata": {
    "slideshow": {
     "slide_type": "fragment"
    }
   },
   "outputs": [],
   "source": [
    "squares = [x**2 for x in range(10)]"
   ]
  },
  {
   "cell_type": "code",
   "execution_count": null,
   "metadata": {
    "slideshow": {
     "slide_type": "fragment"
    }
   },
   "outputs": [],
   "source": [
    "[f(xs) for xs in iter]\n",
    "# Loop over the specified iterable and apply some operation to generate new list elements"
   ]
  },
  {
   "cell_type": "code",
   "execution_count": null,
   "metadata": {
    "slideshow": {
     "slide_type": "fragment"
    }
   },
   "outputs": [],
   "source": [
    "[f(xs) for xs in iter if pred(xs)]\n",
    "# Only keep elements that satisfy a predicate condition"
   ]
  },
  {
   "cell_type": "code",
   "execution_count": 2,
   "metadata": {
    "slideshow": {
     "slide_type": "subslide"
    }
   },
   "outputs": [
    {
     "data": {
      "text/plain": [
       "[(1, 0),\n",
       " (2, 0),\n",
       " (2, 1),\n",
       " (3, 0),\n",
       " (3, 1),\n",
       " (3, 2),\n",
       " (4, 0),\n",
       " (4, 1),\n",
       " (4, 2),\n",
       " (4, 3)]"
      ]
     },
     "execution_count": 2,
     "metadata": {},
     "output_type": "execute_result"
    }
   ],
   "source": [
    "# [word.lower() for word in sentence]\n",
    "\n",
    "# [word for word in sentence if len(word) > 8]\n",
    "\n",
    "[(x, x ** 2, x ** 3) for x in range(10)]\n",
    "\n",
    "[(i,j) for i in range(5) for j in range(i)]"
   ]
  },
  {
   "cell_type": "code",
   "execution_count": 10,
   "metadata": {
    "slideshow": {
     "slide_type": "subslide"
    }
   },
   "outputs": [
    {
     "data": {
      "text/plain": [
       "[(3, 0), (3, 1), (3, 2), (4, 0), (4, 1), (4, 2), (4, 3)]"
      ]
     },
     "execution_count": 10,
     "metadata": {},
     "output_type": "execute_result"
    }
   ],
   "source": [
    "[(i,j) for i in range(5) if i >2 for j in range(i) ]"
   ]
  },
  {
   "cell_type": "code",
   "execution_count": 3,
   "metadata": {
    "slideshow": {
     "slide_type": "subslide"
    }
   },
   "outputs": [
    {
     "data": {
      "text/plain": [
       "[(1, 3), (1, 4), (2, 3), (2, 1), (2, 4), (3, 1), (3, 4)]"
      ]
     },
     "execution_count": 3,
     "metadata": {},
     "output_type": "execute_result"
    }
   ],
   "source": [
    "[(x, y) for x in [1,2,3] for y in [3,1,4] if x != y]"
   ]
  },
  {
   "cell_type": "markdown",
   "metadata": {
    "slideshow": {
     "slide_type": "fragment"
    }
   },
   "source": [
    "it’s equivalent to"
   ]
  },
  {
   "cell_type": "code",
   "execution_count": null,
   "metadata": {
    "slideshow": {
     "slide_type": "fragment"
    }
   },
   "outputs": [],
   "source": [
    "combs = []\n",
    "for x in [1,2,3]:\n",
    "    for y in [3,1,4]:\n",
    "        if x != y:\n",
    "            combs.append((x, y))\n",
    "combs"
   ]
  },
  {
   "cell_type": "code",
   "execution_count": null,
   "metadata": {
    "slideshow": {
     "slide_type": "subslide"
    }
   },
   "outputs": [],
   "source": [
    "# Dictionary Comprehensions\n",
    "{key_func(vars):val_func(vars) for vars in iterable}\n",
    "{v:k for k, v in d.items()}"
   ]
  },
  {
   "cell_type": "code",
   "execution_count": null,
   "metadata": {
    "slideshow": {
     "slide_type": "fragment"
    }
   },
   "outputs": [],
   "source": [
    "# Set Comprehensions\n",
    "{func(vars) for vars in iterable}\n",
    "{word for word in hamlet if is_palindrome(word.lower())}"
   ]
  },
  {
   "cell_type": "code",
   "execution_count": 18,
   "metadata": {
    "slideshow": {
     "slide_type": "subslide"
    }
   },
   "outputs": [
    {
     "ename": "TypeError",
     "evalue": "'<' not supported between instances of 'int' and 'str'",
     "output_type": "error",
     "traceback": [
      "\u001b[1;31m---------------------------------------------------------------------------\u001b[0m",
      "\u001b[1;31mTypeError\u001b[0m                                 Traceback (most recent call last)",
      "\u001b[1;32m~\\AppData\\Local\\Temp/ipykernel_30316/2172911921.py\u001b[0m in \u001b[0;36m<module>\u001b[1;34m\u001b[0m\n\u001b[0;32m      6\u001b[0m \u001b[1;31m# (1, 2, 3)             == (1.0, 2.0, 3.0)\u001b[0m\u001b[1;33m\u001b[0m\u001b[1;33m\u001b[0m\u001b[0m\n\u001b[0;32m      7\u001b[0m \u001b[1;31m# (1, 2, ('aa', 'ab'))   < (1, 2, ('abc', 'a'), 4)\u001b[0m\u001b[1;33m\u001b[0m\u001b[1;33m\u001b[0m\u001b[0m\n\u001b[1;32m----> 8\u001b[1;33m \u001b[1;33m(\u001b[0m\u001b[1;36m1\u001b[0m\u001b[1;33m,\u001b[0m\u001b[1;33m)\u001b[0m \u001b[1;33m<\u001b[0m \u001b[1;33m(\u001b[0m\u001b[1;34m'a'\u001b[0m\u001b[1;33m,\u001b[0m\u001b[1;33m)\u001b[0m\u001b[1;33m\u001b[0m\u001b[1;33m\u001b[0m\u001b[0m\n\u001b[0m",
      "\u001b[1;31mTypeError\u001b[0m: '<' not supported between instances of 'int' and 'str'"
     ]
    }
   ],
   "source": [
    "# (1, 2, 3)              < (1, 2, 4)                    # True\n",
    "# [1, 2, 3]              < [1, 2, 4]\n",
    "# 'ABC' < 'C' < 'Pascal' < 'Python'\n",
    "# (1, 2, 3, 4)           < (1, 2, 4)\n",
    "# (1, 2)                 < (1, 2, -1)\n",
    "# (1, 2, 3)             == (1.0, 2.0, 3.0)\n",
    "# (1, 2, ('aa', 'ab'))   < (1, 2, ('abc', 'a'), 4)\n",
    "(1,) < ('a',)"
   ]
  },
  {
   "cell_type": "markdown",
   "metadata": {
    "slideshow": {
     "slide_type": "fragment"
    }
   },
   "source": [
    "Sequence objects may be compared to other objects with the same sequence type. The comparison uses lexicographical ordering: first the first two items are compared, and if they differ this determines the outcome of the comparison; if not, the next two items are compared, and so on..."
   ]
  },
  {
   "cell_type": "markdown",
   "metadata": {},
   "source": [
    "https://martinheinz.dev/blog/80"
   ]
  },
  {
   "cell_type": "markdown",
   "metadata": {
    "slideshow": {
     "slide_type": "slide"
    }
   },
   "source": [
    "## Time complexity???"
   ]
  },
  {
   "cell_type": "markdown",
   "metadata": {
    "slideshow": {
     "slide_type": "fragment"
    }
   },
   "source": [
    "[https://wiki.python.org/moin/TimeComplexity](https://wiki.python.org/moin/TimeComplexity)"
   ]
  },
  {
   "cell_type": "markdown",
   "metadata": {
    "slideshow": {
     "slide_type": "slide"
    }
   },
   "source": [
    "Source\n",
    "1. [http://treyhunner.com/2015/12/python-list-comprehensions-now-in-color/](http://treyhunner.com/2015/12/python-list-comprehensions-now-in-color/)\n"
   ]
  },
  {
   "cell_type": "markdown",
   "metadata": {
    "slideshow": {
     "slide_type": "slide"
    }
   },
   "source": [
    "## Is it really fast??"
   ]
  },
  {
   "cell_type": "code",
   "execution_count": 5,
   "metadata": {
    "slideshow": {
     "slide_type": "subslide"
    }
   },
   "outputs": [],
   "source": [
    "# https://codereview.stackexchange.com/questions/23441/are-these-list-comprehensions-written-the-fastest-possible-way\n",
    "import sys\n",
    "from datetime import datetime, timedelta\n",
    "import numpy\n",
    "from tqdm import tqdm\n",
    "import matplotlib.pyplot as pyplot\n",
    "pyplot.rcParams['figure.figsize'] = [10, 5]\n",
    "%matplotlib notebook\n",
    "\n",
    "def doingnothing(n):\n",
    "    for i in range(n):\n",
    "        pass\n",
    "    return []\n",
    "\n",
    "def numpysum(n): #NPY\n",
    "    a = numpy.arange(n) ** 2.\n",
    "    b = numpy.arange(n) ** 3.\n",
    "    c = a + b\n",
    "    return c\n",
    "\n",
    "def listexpression(n):  #LE\n",
    "    #return [x**2+x**3 for x in range(n)]\n",
    "    return [x*x+x*x*x for x in range(n)]\n",
    "\n",
    "def dictcomprehension(n):  #DC\n",
    "    # a = {x:x**2+x**3 for x in range(n)}\n",
    "    a = {x:x*x+x*x*x for x in range(n)}\n",
    "    # return [a[key] for key in a]\n",
    "    return list(a.values())\n",
    "\n",
    "def pythonsum(n): #PS\n",
    "#     a = list(range(n))\n",
    "#     b = list(range(n))\n",
    "    c = []\n",
    "    \n",
    "    for i in range(n):\n",
    "        c.append(i**2 + i**3)\n",
    "\n",
    "#     for i in range(len(a)):\n",
    "#             # a[i] = i ** 2.\n",
    "#             a[i] = i * i \n",
    "#             # b[i] = i ** 3.\n",
    "#             b[i] = i * i * i\n",
    "#             c.append(a[i] + b[i])\n",
    "    return c\n",
    "\n",
    "def runtimetest(size,verbose=True,it=5):\n",
    "    v = verbose\n",
    "    d = {'DoingNothing':None,\n",
    "         'NPY':None,\n",
    "         'LE':None,\n",
    "         'DC':None,\n",
    "         'PS':None}\n",
    "\n",
    "    val = []\n",
    "    for i in range(it):\n",
    "        start = datetime.now()\n",
    "        c = doingnothing(size)\n",
    "        val.append(datetime.now() - start)\n",
    "    d['DoingNothing'] = sum(val, timedelta(0)) / len(val)\n",
    "\n",
    "    val = []\n",
    "    for i in range(it):\n",
    "        start = datetime.now()\n",
    "        c = numpysum(size)\n",
    "        val.append(datetime.now() - start)\n",
    "    d['NPY'] = sum(val, timedelta(0)) / len(val)\n",
    "\n",
    "    val = []\n",
    "    for i in range(it):\n",
    "        start = datetime.now()\n",
    "        c = listexpression(size)\n",
    "        val.append(datetime.now() - start)\n",
    "    d['LE'] = sum(val, timedelta(0)) / len(val)\n",
    "\n",
    "    val = []\n",
    "    for i in range(it):\n",
    "        start = datetime.now()\n",
    "        c = dictcomprehension(size)\n",
    "        val.append(datetime.now() - start)\n",
    "    d['DC'] = sum(val, timedelta(0)) / len(val)\n",
    "    \n",
    "    val = []\n",
    "    for i in range(it):\n",
    "        start = datetime.now()\n",
    "        c = pythonsum(size)\n",
    "        val.append(datetime.now() - start)\n",
    "    d['PS'] = sum(val, timedelta(0)) / len(val)\n",
    "        \n",
    "    return d\n",
    "\n",
    "def view(results):\n",
    "    \"\"\"\n",
    "    result['header']=['DoingNothing','NPY','LE','DC','PS']\n",
    "    result[3000]=[0.0, 0.0, 0.002, 0.003, 0.003001] \n",
    "    \"\"\"\n",
    "    if 'header' in results.keys():\n",
    "        results.pop('header')\n",
    "\n",
    "    steps,DN,NPY,LE,DC,PS=[],[],[],[],[],[] #I love multiple assignment!\n",
    "#     import pprint\n",
    "#     pprint.pprint(results)\n",
    "    for step in sorted(results):\n",
    "        steps.append(step)\n",
    "        DN.append(results[step][0])\n",
    "        NPY.append(results[step][1])\n",
    "        LE.append(results[step][2])\n",
    "        DC.append(results[step][3])\n",
    "        PS.append(results[step][4])\n",
    "\n",
    "    pyplot.plot(steps,DN)\n",
    "    pyplot.plot(steps,NPY)\n",
    "    pyplot.plot(steps,LE)\n",
    "    pyplot.plot(steps,DC)\n",
    "    pyplot.plot(steps,PS)\n",
    "    pyplot.legend(['Empty Loop', 'Numpy.Arange', 'List Comprehension', 'Dict Comprehension', 'Python for Loop'], loc='upper left')\n",
    "    scale = 'linear'\n",
    "    pyplot.xscale(scale)\n",
    "    pyplot.yscale(scale)\n",
    "    pyplot.title('runtime test')\n",
    "    pyplot.xlabel('length of list')\n",
    "    pyplot.ylabel('runtime in seconds')\n",
    "\n",
    "    pyplot.show()\n",
    "\n",
    "def longruntimetest(length, it):\n",
    "    if length<10**4:\n",
    "        length=10**4\n",
    "\n",
    "    result = {}\n",
    "    result['header']=['DoingNothing','NPY','LE','DC','PS']\n",
    "    for step in tqdm(range(10**3, length+1,10**3)):\n",
    "#         print(step)\n",
    "        t=runtimetest(step,verbose=False, it=it)        \n",
    "        result[step]=[t['DoingNothing'],t['NPY'],t['LE'],t['DC'],t['PS']]\n",
    "        for i in range(len(result[step])):\n",
    "            result[step][i]=round(result[step][i].seconds\n",
    "                                  +result[step][i].microseconds/10**6,6)\n",
    "\n",
    "    return result\n"
   ]
  },
  {
   "cell_type": "code",
   "execution_count": 6,
   "metadata": {
    "slideshow": {
     "slide_type": "subslide"
    }
   },
   "outputs": [],
   "source": [
    "testsize=10**4"
   ]
  },
  {
   "cell_type": "code",
   "execution_count": 7,
   "metadata": {
    "scrolled": true,
    "slideshow": {
     "slide_type": "fragment"
    }
   },
   "outputs": [
    {
     "name": "stderr",
     "output_type": "stream",
     "text": [
      "100%|██████████████████████████████████████████████████████████████████████████████████████████████████████████████████████████████████████████████████████████████████████████████████████████████████| 10/10 [00:03<00:00,  2.50it/s]\n"
     ]
    }
   ],
   "source": [
    "result = longruntimetest(testsize, 20)"
   ]
  },
  {
   "cell_type": "code",
   "execution_count": 8,
   "metadata": {
    "scrolled": true
   },
   "outputs": [
    {
     "data": {
      "application/javascript": [
       "/* Put everything inside the global mpl namespace */\n",
       "/* global mpl */\n",
       "window.mpl = {};\n",
       "\n",
       "mpl.get_websocket_type = function () {\n",
       "    if (typeof WebSocket !== 'undefined') {\n",
       "        return WebSocket;\n",
       "    } else if (typeof MozWebSocket !== 'undefined') {\n",
       "        return MozWebSocket;\n",
       "    } else {\n",
       "        alert(\n",
       "            'Your browser does not have WebSocket support. ' +\n",
       "                'Please try Chrome, Safari or Firefox ≥ 6. ' +\n",
       "                'Firefox 4 and 5 are also supported but you ' +\n",
       "                'have to enable WebSockets in about:config.'\n",
       "        );\n",
       "    }\n",
       "};\n",
       "\n",
       "mpl.figure = function (figure_id, websocket, ondownload, parent_element) {\n",
       "    this.id = figure_id;\n",
       "\n",
       "    this.ws = websocket;\n",
       "\n",
       "    this.supports_binary = this.ws.binaryType !== undefined;\n",
       "\n",
       "    if (!this.supports_binary) {\n",
       "        var warnings = document.getElementById('mpl-warnings');\n",
       "        if (warnings) {\n",
       "            warnings.style.display = 'block';\n",
       "            warnings.textContent =\n",
       "                'This browser does not support binary websocket messages. ' +\n",
       "                'Performance may be slow.';\n",
       "        }\n",
       "    }\n",
       "\n",
       "    this.imageObj = new Image();\n",
       "\n",
       "    this.context = undefined;\n",
       "    this.message = undefined;\n",
       "    this.canvas = undefined;\n",
       "    this.rubberband_canvas = undefined;\n",
       "    this.rubberband_context = undefined;\n",
       "    this.format_dropdown = undefined;\n",
       "\n",
       "    this.image_mode = 'full';\n",
       "\n",
       "    this.root = document.createElement('div');\n",
       "    this.root.setAttribute('style', 'display: inline-block');\n",
       "    this._root_extra_style(this.root);\n",
       "\n",
       "    parent_element.appendChild(this.root);\n",
       "\n",
       "    this._init_header(this);\n",
       "    this._init_canvas(this);\n",
       "    this._init_toolbar(this);\n",
       "\n",
       "    var fig = this;\n",
       "\n",
       "    this.waiting = false;\n",
       "\n",
       "    this.ws.onopen = function () {\n",
       "        fig.send_message('supports_binary', { value: fig.supports_binary });\n",
       "        fig.send_message('send_image_mode', {});\n",
       "        if (fig.ratio !== 1) {\n",
       "            fig.send_message('set_device_pixel_ratio', {\n",
       "                device_pixel_ratio: fig.ratio,\n",
       "            });\n",
       "        }\n",
       "        fig.send_message('refresh', {});\n",
       "    };\n",
       "\n",
       "    this.imageObj.onload = function () {\n",
       "        if (fig.image_mode === 'full') {\n",
       "            // Full images could contain transparency (where diff images\n",
       "            // almost always do), so we need to clear the canvas so that\n",
       "            // there is no ghosting.\n",
       "            fig.context.clearRect(0, 0, fig.canvas.width, fig.canvas.height);\n",
       "        }\n",
       "        fig.context.drawImage(fig.imageObj, 0, 0);\n",
       "    };\n",
       "\n",
       "    this.imageObj.onunload = function () {\n",
       "        fig.ws.close();\n",
       "    };\n",
       "\n",
       "    this.ws.onmessage = this._make_on_message_function(this);\n",
       "\n",
       "    this.ondownload = ondownload;\n",
       "};\n",
       "\n",
       "mpl.figure.prototype._init_header = function () {\n",
       "    var titlebar = document.createElement('div');\n",
       "    titlebar.classList =\n",
       "        'ui-dialog-titlebar ui-widget-header ui-corner-all ui-helper-clearfix';\n",
       "    var titletext = document.createElement('div');\n",
       "    titletext.classList = 'ui-dialog-title';\n",
       "    titletext.setAttribute(\n",
       "        'style',\n",
       "        'width: 100%; text-align: center; padding: 3px;'\n",
       "    );\n",
       "    titlebar.appendChild(titletext);\n",
       "    this.root.appendChild(titlebar);\n",
       "    this.header = titletext;\n",
       "};\n",
       "\n",
       "mpl.figure.prototype._canvas_extra_style = function (_canvas_div) {};\n",
       "\n",
       "mpl.figure.prototype._root_extra_style = function (_canvas_div) {};\n",
       "\n",
       "mpl.figure.prototype._init_canvas = function () {\n",
       "    var fig = this;\n",
       "\n",
       "    var canvas_div = (this.canvas_div = document.createElement('div'));\n",
       "    canvas_div.setAttribute(\n",
       "        'style',\n",
       "        'border: 1px solid #ddd;' +\n",
       "            'box-sizing: content-box;' +\n",
       "            'clear: both;' +\n",
       "            'min-height: 1px;' +\n",
       "            'min-width: 1px;' +\n",
       "            'outline: 0;' +\n",
       "            'overflow: hidden;' +\n",
       "            'position: relative;' +\n",
       "            'resize: both;'\n",
       "    );\n",
       "\n",
       "    function on_keyboard_event_closure(name) {\n",
       "        return function (event) {\n",
       "            return fig.key_event(event, name);\n",
       "        };\n",
       "    }\n",
       "\n",
       "    canvas_div.addEventListener(\n",
       "        'keydown',\n",
       "        on_keyboard_event_closure('key_press')\n",
       "    );\n",
       "    canvas_div.addEventListener(\n",
       "        'keyup',\n",
       "        on_keyboard_event_closure('key_release')\n",
       "    );\n",
       "\n",
       "    this._canvas_extra_style(canvas_div);\n",
       "    this.root.appendChild(canvas_div);\n",
       "\n",
       "    var canvas = (this.canvas = document.createElement('canvas'));\n",
       "    canvas.classList.add('mpl-canvas');\n",
       "    canvas.setAttribute('style', 'box-sizing: content-box;');\n",
       "\n",
       "    this.context = canvas.getContext('2d');\n",
       "\n",
       "    var backingStore =\n",
       "        this.context.backingStorePixelRatio ||\n",
       "        this.context.webkitBackingStorePixelRatio ||\n",
       "        this.context.mozBackingStorePixelRatio ||\n",
       "        this.context.msBackingStorePixelRatio ||\n",
       "        this.context.oBackingStorePixelRatio ||\n",
       "        this.context.backingStorePixelRatio ||\n",
       "        1;\n",
       "\n",
       "    this.ratio = (window.devicePixelRatio || 1) / backingStore;\n",
       "\n",
       "    var rubberband_canvas = (this.rubberband_canvas = document.createElement(\n",
       "        'canvas'\n",
       "    ));\n",
       "    rubberband_canvas.setAttribute(\n",
       "        'style',\n",
       "        'box-sizing: content-box; position: absolute; left: 0; top: 0; z-index: 1;'\n",
       "    );\n",
       "\n",
       "    // Apply a ponyfill if ResizeObserver is not implemented by browser.\n",
       "    if (this.ResizeObserver === undefined) {\n",
       "        if (window.ResizeObserver !== undefined) {\n",
       "            this.ResizeObserver = window.ResizeObserver;\n",
       "        } else {\n",
       "            var obs = _JSXTOOLS_RESIZE_OBSERVER({});\n",
       "            this.ResizeObserver = obs.ResizeObserver;\n",
       "        }\n",
       "    }\n",
       "\n",
       "    this.resizeObserverInstance = new this.ResizeObserver(function (entries) {\n",
       "        var nentries = entries.length;\n",
       "        for (var i = 0; i < nentries; i++) {\n",
       "            var entry = entries[i];\n",
       "            var width, height;\n",
       "            if (entry.contentBoxSize) {\n",
       "                if (entry.contentBoxSize instanceof Array) {\n",
       "                    // Chrome 84 implements new version of spec.\n",
       "                    width = entry.contentBoxSize[0].inlineSize;\n",
       "                    height = entry.contentBoxSize[0].blockSize;\n",
       "                } else {\n",
       "                    // Firefox implements old version of spec.\n",
       "                    width = entry.contentBoxSize.inlineSize;\n",
       "                    height = entry.contentBoxSize.blockSize;\n",
       "                }\n",
       "            } else {\n",
       "                // Chrome <84 implements even older version of spec.\n",
       "                width = entry.contentRect.width;\n",
       "                height = entry.contentRect.height;\n",
       "            }\n",
       "\n",
       "            // Keep the size of the canvas and rubber band canvas in sync with\n",
       "            // the canvas container.\n",
       "            if (entry.devicePixelContentBoxSize) {\n",
       "                // Chrome 84 implements new version of spec.\n",
       "                canvas.setAttribute(\n",
       "                    'width',\n",
       "                    entry.devicePixelContentBoxSize[0].inlineSize\n",
       "                );\n",
       "                canvas.setAttribute(\n",
       "                    'height',\n",
       "                    entry.devicePixelContentBoxSize[0].blockSize\n",
       "                );\n",
       "            } else {\n",
       "                canvas.setAttribute('width', width * fig.ratio);\n",
       "                canvas.setAttribute('height', height * fig.ratio);\n",
       "            }\n",
       "            canvas.setAttribute(\n",
       "                'style',\n",
       "                'width: ' + width + 'px; height: ' + height + 'px;'\n",
       "            );\n",
       "\n",
       "            rubberband_canvas.setAttribute('width', width);\n",
       "            rubberband_canvas.setAttribute('height', height);\n",
       "\n",
       "            // And update the size in Python. We ignore the initial 0/0 size\n",
       "            // that occurs as the element is placed into the DOM, which should\n",
       "            // otherwise not happen due to the minimum size styling.\n",
       "            if (fig.ws.readyState == 1 && width != 0 && height != 0) {\n",
       "                fig.request_resize(width, height);\n",
       "            }\n",
       "        }\n",
       "    });\n",
       "    this.resizeObserverInstance.observe(canvas_div);\n",
       "\n",
       "    function on_mouse_event_closure(name) {\n",
       "        return function (event) {\n",
       "            return fig.mouse_event(event, name);\n",
       "        };\n",
       "    }\n",
       "\n",
       "    rubberband_canvas.addEventListener(\n",
       "        'mousedown',\n",
       "        on_mouse_event_closure('button_press')\n",
       "    );\n",
       "    rubberband_canvas.addEventListener(\n",
       "        'mouseup',\n",
       "        on_mouse_event_closure('button_release')\n",
       "    );\n",
       "    rubberband_canvas.addEventListener(\n",
       "        'dblclick',\n",
       "        on_mouse_event_closure('dblclick')\n",
       "    );\n",
       "    // Throttle sequential mouse events to 1 every 20ms.\n",
       "    rubberband_canvas.addEventListener(\n",
       "        'mousemove',\n",
       "        on_mouse_event_closure('motion_notify')\n",
       "    );\n",
       "\n",
       "    rubberband_canvas.addEventListener(\n",
       "        'mouseenter',\n",
       "        on_mouse_event_closure('figure_enter')\n",
       "    );\n",
       "    rubberband_canvas.addEventListener(\n",
       "        'mouseleave',\n",
       "        on_mouse_event_closure('figure_leave')\n",
       "    );\n",
       "\n",
       "    canvas_div.addEventListener('wheel', function (event) {\n",
       "        if (event.deltaY < 0) {\n",
       "            event.step = 1;\n",
       "        } else {\n",
       "            event.step = -1;\n",
       "        }\n",
       "        on_mouse_event_closure('scroll')(event);\n",
       "    });\n",
       "\n",
       "    canvas_div.appendChild(canvas);\n",
       "    canvas_div.appendChild(rubberband_canvas);\n",
       "\n",
       "    this.rubberband_context = rubberband_canvas.getContext('2d');\n",
       "    this.rubberband_context.strokeStyle = '#000000';\n",
       "\n",
       "    this._resize_canvas = function (width, height, forward) {\n",
       "        if (forward) {\n",
       "            canvas_div.style.width = width + 'px';\n",
       "            canvas_div.style.height = height + 'px';\n",
       "        }\n",
       "    };\n",
       "\n",
       "    // Disable right mouse context menu.\n",
       "    this.rubberband_canvas.addEventListener('contextmenu', function (_e) {\n",
       "        event.preventDefault();\n",
       "        return false;\n",
       "    });\n",
       "\n",
       "    function set_focus() {\n",
       "        canvas.focus();\n",
       "        canvas_div.focus();\n",
       "    }\n",
       "\n",
       "    window.setTimeout(set_focus, 100);\n",
       "};\n",
       "\n",
       "mpl.figure.prototype._init_toolbar = function () {\n",
       "    var fig = this;\n",
       "\n",
       "    var toolbar = document.createElement('div');\n",
       "    toolbar.classList = 'mpl-toolbar';\n",
       "    this.root.appendChild(toolbar);\n",
       "\n",
       "    function on_click_closure(name) {\n",
       "        return function (_event) {\n",
       "            return fig.toolbar_button_onclick(name);\n",
       "        };\n",
       "    }\n",
       "\n",
       "    function on_mouseover_closure(tooltip) {\n",
       "        return function (event) {\n",
       "            if (!event.currentTarget.disabled) {\n",
       "                return fig.toolbar_button_onmouseover(tooltip);\n",
       "            }\n",
       "        };\n",
       "    }\n",
       "\n",
       "    fig.buttons = {};\n",
       "    var buttonGroup = document.createElement('div');\n",
       "    buttonGroup.classList = 'mpl-button-group';\n",
       "    for (var toolbar_ind in mpl.toolbar_items) {\n",
       "        var name = mpl.toolbar_items[toolbar_ind][0];\n",
       "        var tooltip = mpl.toolbar_items[toolbar_ind][1];\n",
       "        var image = mpl.toolbar_items[toolbar_ind][2];\n",
       "        var method_name = mpl.toolbar_items[toolbar_ind][3];\n",
       "\n",
       "        if (!name) {\n",
       "            /* Instead of a spacer, we start a new button group. */\n",
       "            if (buttonGroup.hasChildNodes()) {\n",
       "                toolbar.appendChild(buttonGroup);\n",
       "            }\n",
       "            buttonGroup = document.createElement('div');\n",
       "            buttonGroup.classList = 'mpl-button-group';\n",
       "            continue;\n",
       "        }\n",
       "\n",
       "        var button = (fig.buttons[name] = document.createElement('button'));\n",
       "        button.classList = 'mpl-widget';\n",
       "        button.setAttribute('role', 'button');\n",
       "        button.setAttribute('aria-disabled', 'false');\n",
       "        button.addEventListener('click', on_click_closure(method_name));\n",
       "        button.addEventListener('mouseover', on_mouseover_closure(tooltip));\n",
       "\n",
       "        var icon_img = document.createElement('img');\n",
       "        icon_img.src = '_images/' + image + '.png';\n",
       "        icon_img.srcset = '_images/' + image + '_large.png 2x';\n",
       "        icon_img.alt = tooltip;\n",
       "        button.appendChild(icon_img);\n",
       "\n",
       "        buttonGroup.appendChild(button);\n",
       "    }\n",
       "\n",
       "    if (buttonGroup.hasChildNodes()) {\n",
       "        toolbar.appendChild(buttonGroup);\n",
       "    }\n",
       "\n",
       "    var fmt_picker = document.createElement('select');\n",
       "    fmt_picker.classList = 'mpl-widget';\n",
       "    toolbar.appendChild(fmt_picker);\n",
       "    this.format_dropdown = fmt_picker;\n",
       "\n",
       "    for (var ind in mpl.extensions) {\n",
       "        var fmt = mpl.extensions[ind];\n",
       "        var option = document.createElement('option');\n",
       "        option.selected = fmt === mpl.default_extension;\n",
       "        option.innerHTML = fmt;\n",
       "        fmt_picker.appendChild(option);\n",
       "    }\n",
       "\n",
       "    var status_bar = document.createElement('span');\n",
       "    status_bar.classList = 'mpl-message';\n",
       "    toolbar.appendChild(status_bar);\n",
       "    this.message = status_bar;\n",
       "};\n",
       "\n",
       "mpl.figure.prototype.request_resize = function (x_pixels, y_pixels) {\n",
       "    // Request matplotlib to resize the figure. Matplotlib will then trigger a resize in the client,\n",
       "    // which will in turn request a refresh of the image.\n",
       "    this.send_message('resize', { width: x_pixels, height: y_pixels });\n",
       "};\n",
       "\n",
       "mpl.figure.prototype.send_message = function (type, properties) {\n",
       "    properties['type'] = type;\n",
       "    properties['figure_id'] = this.id;\n",
       "    this.ws.send(JSON.stringify(properties));\n",
       "};\n",
       "\n",
       "mpl.figure.prototype.send_draw_message = function () {\n",
       "    if (!this.waiting) {\n",
       "        this.waiting = true;\n",
       "        this.ws.send(JSON.stringify({ type: 'draw', figure_id: this.id }));\n",
       "    }\n",
       "};\n",
       "\n",
       "mpl.figure.prototype.handle_save = function (fig, _msg) {\n",
       "    var format_dropdown = fig.format_dropdown;\n",
       "    var format = format_dropdown.options[format_dropdown.selectedIndex].value;\n",
       "    fig.ondownload(fig, format);\n",
       "};\n",
       "\n",
       "mpl.figure.prototype.handle_resize = function (fig, msg) {\n",
       "    var size = msg['size'];\n",
       "    if (size[0] !== fig.canvas.width || size[1] !== fig.canvas.height) {\n",
       "        fig._resize_canvas(size[0], size[1], msg['forward']);\n",
       "        fig.send_message('refresh', {});\n",
       "    }\n",
       "};\n",
       "\n",
       "mpl.figure.prototype.handle_rubberband = function (fig, msg) {\n",
       "    var x0 = msg['x0'] / fig.ratio;\n",
       "    var y0 = (fig.canvas.height - msg['y0']) / fig.ratio;\n",
       "    var x1 = msg['x1'] / fig.ratio;\n",
       "    var y1 = (fig.canvas.height - msg['y1']) / fig.ratio;\n",
       "    x0 = Math.floor(x0) + 0.5;\n",
       "    y0 = Math.floor(y0) + 0.5;\n",
       "    x1 = Math.floor(x1) + 0.5;\n",
       "    y1 = Math.floor(y1) + 0.5;\n",
       "    var min_x = Math.min(x0, x1);\n",
       "    var min_y = Math.min(y0, y1);\n",
       "    var width = Math.abs(x1 - x0);\n",
       "    var height = Math.abs(y1 - y0);\n",
       "\n",
       "    fig.rubberband_context.clearRect(\n",
       "        0,\n",
       "        0,\n",
       "        fig.canvas.width / fig.ratio,\n",
       "        fig.canvas.height / fig.ratio\n",
       "    );\n",
       "\n",
       "    fig.rubberband_context.strokeRect(min_x, min_y, width, height);\n",
       "};\n",
       "\n",
       "mpl.figure.prototype.handle_figure_label = function (fig, msg) {\n",
       "    // Updates the figure title.\n",
       "    fig.header.textContent = msg['label'];\n",
       "};\n",
       "\n",
       "mpl.figure.prototype.handle_cursor = function (fig, msg) {\n",
       "    fig.rubberband_canvas.style.cursor = msg['cursor'];\n",
       "};\n",
       "\n",
       "mpl.figure.prototype.handle_message = function (fig, msg) {\n",
       "    fig.message.textContent = msg['message'];\n",
       "};\n",
       "\n",
       "mpl.figure.prototype.handle_draw = function (fig, _msg) {\n",
       "    // Request the server to send over a new figure.\n",
       "    fig.send_draw_message();\n",
       "};\n",
       "\n",
       "mpl.figure.prototype.handle_image_mode = function (fig, msg) {\n",
       "    fig.image_mode = msg['mode'];\n",
       "};\n",
       "\n",
       "mpl.figure.prototype.handle_history_buttons = function (fig, msg) {\n",
       "    for (var key in msg) {\n",
       "        if (!(key in fig.buttons)) {\n",
       "            continue;\n",
       "        }\n",
       "        fig.buttons[key].disabled = !msg[key];\n",
       "        fig.buttons[key].setAttribute('aria-disabled', !msg[key]);\n",
       "    }\n",
       "};\n",
       "\n",
       "mpl.figure.prototype.handle_navigate_mode = function (fig, msg) {\n",
       "    if (msg['mode'] === 'PAN') {\n",
       "        fig.buttons['Pan'].classList.add('active');\n",
       "        fig.buttons['Zoom'].classList.remove('active');\n",
       "    } else if (msg['mode'] === 'ZOOM') {\n",
       "        fig.buttons['Pan'].classList.remove('active');\n",
       "        fig.buttons['Zoom'].classList.add('active');\n",
       "    } else {\n",
       "        fig.buttons['Pan'].classList.remove('active');\n",
       "        fig.buttons['Zoom'].classList.remove('active');\n",
       "    }\n",
       "};\n",
       "\n",
       "mpl.figure.prototype.updated_canvas_event = function () {\n",
       "    // Called whenever the canvas gets updated.\n",
       "    this.send_message('ack', {});\n",
       "};\n",
       "\n",
       "// A function to construct a web socket function for onmessage handling.\n",
       "// Called in the figure constructor.\n",
       "mpl.figure.prototype._make_on_message_function = function (fig) {\n",
       "    return function socket_on_message(evt) {\n",
       "        if (evt.data instanceof Blob) {\n",
       "            var img = evt.data;\n",
       "            if (img.type !== 'image/png') {\n",
       "                /* FIXME: We get \"Resource interpreted as Image but\n",
       "                 * transferred with MIME type text/plain:\" errors on\n",
       "                 * Chrome.  But how to set the MIME type?  It doesn't seem\n",
       "                 * to be part of the websocket stream */\n",
       "                img.type = 'image/png';\n",
       "            }\n",
       "\n",
       "            /* Free the memory for the previous frames */\n",
       "            if (fig.imageObj.src) {\n",
       "                (window.URL || window.webkitURL).revokeObjectURL(\n",
       "                    fig.imageObj.src\n",
       "                );\n",
       "            }\n",
       "\n",
       "            fig.imageObj.src = (window.URL || window.webkitURL).createObjectURL(\n",
       "                img\n",
       "            );\n",
       "            fig.updated_canvas_event();\n",
       "            fig.waiting = false;\n",
       "            return;\n",
       "        } else if (\n",
       "            typeof evt.data === 'string' &&\n",
       "            evt.data.slice(0, 21) === 'data:image/png;base64'\n",
       "        ) {\n",
       "            fig.imageObj.src = evt.data;\n",
       "            fig.updated_canvas_event();\n",
       "            fig.waiting = false;\n",
       "            return;\n",
       "        }\n",
       "\n",
       "        var msg = JSON.parse(evt.data);\n",
       "        var msg_type = msg['type'];\n",
       "\n",
       "        // Call the  \"handle_{type}\" callback, which takes\n",
       "        // the figure and JSON message as its only arguments.\n",
       "        try {\n",
       "            var callback = fig['handle_' + msg_type];\n",
       "        } catch (e) {\n",
       "            console.log(\n",
       "                \"No handler for the '\" + msg_type + \"' message type: \",\n",
       "                msg\n",
       "            );\n",
       "            return;\n",
       "        }\n",
       "\n",
       "        if (callback) {\n",
       "            try {\n",
       "                // console.log(\"Handling '\" + msg_type + \"' message: \", msg);\n",
       "                callback(fig, msg);\n",
       "            } catch (e) {\n",
       "                console.log(\n",
       "                    \"Exception inside the 'handler_\" + msg_type + \"' callback:\",\n",
       "                    e,\n",
       "                    e.stack,\n",
       "                    msg\n",
       "                );\n",
       "            }\n",
       "        }\n",
       "    };\n",
       "};\n",
       "\n",
       "// from https://stackoverflow.com/questions/1114465/getting-mouse-location-in-canvas\n",
       "mpl.findpos = function (e) {\n",
       "    //this section is from http://www.quirksmode.org/js/events_properties.html\n",
       "    var targ;\n",
       "    if (!e) {\n",
       "        e = window.event;\n",
       "    }\n",
       "    if (e.target) {\n",
       "        targ = e.target;\n",
       "    } else if (e.srcElement) {\n",
       "        targ = e.srcElement;\n",
       "    }\n",
       "    if (targ.nodeType === 3) {\n",
       "        // defeat Safari bug\n",
       "        targ = targ.parentNode;\n",
       "    }\n",
       "\n",
       "    // pageX,Y are the mouse positions relative to the document\n",
       "    var boundingRect = targ.getBoundingClientRect();\n",
       "    var x = e.pageX - (boundingRect.left + document.body.scrollLeft);\n",
       "    var y = e.pageY - (boundingRect.top + document.body.scrollTop);\n",
       "\n",
       "    return { x: x, y: y };\n",
       "};\n",
       "\n",
       "/*\n",
       " * return a copy of an object with only non-object keys\n",
       " * we need this to avoid circular references\n",
       " * https://stackoverflow.com/a/24161582/3208463\n",
       " */\n",
       "function simpleKeys(original) {\n",
       "    return Object.keys(original).reduce(function (obj, key) {\n",
       "        if (typeof original[key] !== 'object') {\n",
       "            obj[key] = original[key];\n",
       "        }\n",
       "        return obj;\n",
       "    }, {});\n",
       "}\n",
       "\n",
       "mpl.figure.prototype.mouse_event = function (event, name) {\n",
       "    var canvas_pos = mpl.findpos(event);\n",
       "\n",
       "    if (name === 'button_press') {\n",
       "        this.canvas.focus();\n",
       "        this.canvas_div.focus();\n",
       "    }\n",
       "\n",
       "    var x = canvas_pos.x * this.ratio;\n",
       "    var y = canvas_pos.y * this.ratio;\n",
       "\n",
       "    this.send_message(name, {\n",
       "        x: x,\n",
       "        y: y,\n",
       "        button: event.button,\n",
       "        step: event.step,\n",
       "        guiEvent: simpleKeys(event),\n",
       "    });\n",
       "\n",
       "    /* This prevents the web browser from automatically changing to\n",
       "     * the text insertion cursor when the button is pressed.  We want\n",
       "     * to control all of the cursor setting manually through the\n",
       "     * 'cursor' event from matplotlib */\n",
       "    event.preventDefault();\n",
       "    return false;\n",
       "};\n",
       "\n",
       "mpl.figure.prototype._key_event_extra = function (_event, _name) {\n",
       "    // Handle any extra behaviour associated with a key event\n",
       "};\n",
       "\n",
       "mpl.figure.prototype.key_event = function (event, name) {\n",
       "    // Prevent repeat events\n",
       "    if (name === 'key_press') {\n",
       "        if (event.key === this._key) {\n",
       "            return;\n",
       "        } else {\n",
       "            this._key = event.key;\n",
       "        }\n",
       "    }\n",
       "    if (name === 'key_release') {\n",
       "        this._key = null;\n",
       "    }\n",
       "\n",
       "    var value = '';\n",
       "    if (event.ctrlKey && event.key !== 'Control') {\n",
       "        value += 'ctrl+';\n",
       "    }\n",
       "    else if (event.altKey && event.key !== 'Alt') {\n",
       "        value += 'alt+';\n",
       "    }\n",
       "    else if (event.shiftKey && event.key !== 'Shift') {\n",
       "        value += 'shift+';\n",
       "    }\n",
       "\n",
       "    value += 'k' + event.key;\n",
       "\n",
       "    this._key_event_extra(event, name);\n",
       "\n",
       "    this.send_message(name, { key: value, guiEvent: simpleKeys(event) });\n",
       "    return false;\n",
       "};\n",
       "\n",
       "mpl.figure.prototype.toolbar_button_onclick = function (name) {\n",
       "    if (name === 'download') {\n",
       "        this.handle_save(this, null);\n",
       "    } else {\n",
       "        this.send_message('toolbar_button', { name: name });\n",
       "    }\n",
       "};\n",
       "\n",
       "mpl.figure.prototype.toolbar_button_onmouseover = function (tooltip) {\n",
       "    this.message.textContent = tooltip;\n",
       "};\n",
       "\n",
       "///////////////// REMAINING CONTENT GENERATED BY embed_js.py /////////////////\n",
       "// prettier-ignore\n",
       "var _JSXTOOLS_RESIZE_OBSERVER=function(A){var t,i=new WeakMap,n=new WeakMap,a=new WeakMap,r=new WeakMap,o=new Set;function s(e){if(!(this instanceof s))throw new TypeError(\"Constructor requires 'new' operator\");i.set(this,e)}function h(){throw new TypeError(\"Function is not a constructor\")}function c(e,t,i,n){e=0 in arguments?Number(arguments[0]):0,t=1 in arguments?Number(arguments[1]):0,i=2 in arguments?Number(arguments[2]):0,n=3 in arguments?Number(arguments[3]):0,this.right=(this.x=this.left=e)+(this.width=i),this.bottom=(this.y=this.top=t)+(this.height=n),Object.freeze(this)}function d(){t=requestAnimationFrame(d);var s=new WeakMap,p=new Set;o.forEach((function(t){r.get(t).forEach((function(i){var r=t instanceof window.SVGElement,o=a.get(t),d=r?0:parseFloat(o.paddingTop),f=r?0:parseFloat(o.paddingRight),l=r?0:parseFloat(o.paddingBottom),u=r?0:parseFloat(o.paddingLeft),g=r?0:parseFloat(o.borderTopWidth),m=r?0:parseFloat(o.borderRightWidth),w=r?0:parseFloat(o.borderBottomWidth),b=u+f,F=d+l,v=(r?0:parseFloat(o.borderLeftWidth))+m,W=g+w,y=r?0:t.offsetHeight-W-t.clientHeight,E=r?0:t.offsetWidth-v-t.clientWidth,R=b+v,z=F+W,M=r?t.width:parseFloat(o.width)-R-E,O=r?t.height:parseFloat(o.height)-z-y;if(n.has(t)){var k=n.get(t);if(k[0]===M&&k[1]===O)return}n.set(t,[M,O]);var S=Object.create(h.prototype);S.target=t,S.contentRect=new c(u,d,M,O),s.has(i)||(s.set(i,[]),p.add(i)),s.get(i).push(S)}))})),p.forEach((function(e){i.get(e).call(e,s.get(e),e)}))}return s.prototype.observe=function(i){if(i instanceof window.Element){r.has(i)||(r.set(i,new Set),o.add(i),a.set(i,window.getComputedStyle(i)));var n=r.get(i);n.has(this)||n.add(this),cancelAnimationFrame(t),t=requestAnimationFrame(d)}},s.prototype.unobserve=function(i){if(i instanceof window.Element&&r.has(i)){var n=r.get(i);n.has(this)&&(n.delete(this),n.size||(r.delete(i),o.delete(i))),n.size||r.delete(i),o.size||cancelAnimationFrame(t)}},A.DOMRectReadOnly=c,A.ResizeObserver=s,A.ResizeObserverEntry=h,A}; // eslint-disable-line\n",
       "mpl.toolbar_items = [[\"Home\", \"Reset original view\", \"fa fa-home\", \"home\"], [\"Back\", \"Back to previous view\", \"fa fa-arrow-left\", \"back\"], [\"Forward\", \"Forward to next view\", \"fa fa-arrow-right\", \"forward\"], [\"\", \"\", \"\", \"\"], [\"Pan\", \"Left button pans, Right button zooms\\nx/y fixes axis, CTRL fixes aspect\", \"fa fa-arrows\", \"pan\"], [\"Zoom\", \"Zoom to rectangle\\nx/y fixes axis\", \"fa fa-square-o\", \"zoom\"], [\"\", \"\", \"\", \"\"], [\"Download\", \"Download plot\", \"fa fa-floppy-o\", \"download\"]];\n",
       "\n",
       "mpl.extensions = [\"eps\", \"jpeg\", \"pgf\", \"pdf\", \"png\", \"ps\", \"raw\", \"svg\", \"tif\", \"webp\"];\n",
       "\n",
       "mpl.default_extension = \"png\";/* global mpl */\n",
       "\n",
       "var comm_websocket_adapter = function (comm) {\n",
       "    // Create a \"websocket\"-like object which calls the given IPython comm\n",
       "    // object with the appropriate methods. Currently this is a non binary\n",
       "    // socket, so there is still some room for performance tuning.\n",
       "    var ws = {};\n",
       "\n",
       "    ws.binaryType = comm.kernel.ws.binaryType;\n",
       "    ws.readyState = comm.kernel.ws.readyState;\n",
       "    function updateReadyState(_event) {\n",
       "        if (comm.kernel.ws) {\n",
       "            ws.readyState = comm.kernel.ws.readyState;\n",
       "        } else {\n",
       "            ws.readyState = 3; // Closed state.\n",
       "        }\n",
       "    }\n",
       "    comm.kernel.ws.addEventListener('open', updateReadyState);\n",
       "    comm.kernel.ws.addEventListener('close', updateReadyState);\n",
       "    comm.kernel.ws.addEventListener('error', updateReadyState);\n",
       "\n",
       "    ws.close = function () {\n",
       "        comm.close();\n",
       "    };\n",
       "    ws.send = function (m) {\n",
       "        //console.log('sending', m);\n",
       "        comm.send(m);\n",
       "    };\n",
       "    // Register the callback with on_msg.\n",
       "    comm.on_msg(function (msg) {\n",
       "        //console.log('receiving', msg['content']['data'], msg);\n",
       "        var data = msg['content']['data'];\n",
       "        if (data['blob'] !== undefined) {\n",
       "            data = {\n",
       "                data: new Blob(msg['buffers'], { type: data['blob'] }),\n",
       "            };\n",
       "        }\n",
       "        // Pass the mpl event to the overridden (by mpl) onmessage function.\n",
       "        ws.onmessage(data);\n",
       "    });\n",
       "    return ws;\n",
       "};\n",
       "\n",
       "mpl.mpl_figure_comm = function (comm, msg) {\n",
       "    // This is the function which gets called when the mpl process\n",
       "    // starts-up an IPython Comm through the \"matplotlib\" channel.\n",
       "\n",
       "    var id = msg.content.data.id;\n",
       "    // Get hold of the div created by the display call when the Comm\n",
       "    // socket was opened in Python.\n",
       "    var element = document.getElementById(id);\n",
       "    var ws_proxy = comm_websocket_adapter(comm);\n",
       "\n",
       "    function ondownload(figure, _format) {\n",
       "        window.open(figure.canvas.toDataURL());\n",
       "    }\n",
       "\n",
       "    var fig = new mpl.figure(id, ws_proxy, ondownload, element);\n",
       "\n",
       "    // Call onopen now - mpl needs it, as it is assuming we've passed it a real\n",
       "    // web socket which is closed, not our websocket->open comm proxy.\n",
       "    ws_proxy.onopen();\n",
       "\n",
       "    fig.parent_element = element;\n",
       "    fig.cell_info = mpl.find_output_cell(\"<div id='\" + id + \"'></div>\");\n",
       "    if (!fig.cell_info) {\n",
       "        console.error('Failed to find cell for figure', id, fig);\n",
       "        return;\n",
       "    }\n",
       "    fig.cell_info[0].output_area.element.on(\n",
       "        'cleared',\n",
       "        { fig: fig },\n",
       "        fig._remove_fig_handler\n",
       "    );\n",
       "};\n",
       "\n",
       "mpl.figure.prototype.handle_close = function (fig, msg) {\n",
       "    var width = fig.canvas.width / fig.ratio;\n",
       "    fig.cell_info[0].output_area.element.off(\n",
       "        'cleared',\n",
       "        fig._remove_fig_handler\n",
       "    );\n",
       "    fig.resizeObserverInstance.unobserve(fig.canvas_div);\n",
       "\n",
       "    // Update the output cell to use the data from the current canvas.\n",
       "    fig.push_to_output();\n",
       "    var dataURL = fig.canvas.toDataURL();\n",
       "    // Re-enable the keyboard manager in IPython - without this line, in FF,\n",
       "    // the notebook keyboard shortcuts fail.\n",
       "    IPython.keyboard_manager.enable();\n",
       "    fig.parent_element.innerHTML =\n",
       "        '<img src=\"' + dataURL + '\" width=\"' + width + '\">';\n",
       "    fig.close_ws(fig, msg);\n",
       "};\n",
       "\n",
       "mpl.figure.prototype.close_ws = function (fig, msg) {\n",
       "    fig.send_message('closing', msg);\n",
       "    // fig.ws.close()\n",
       "};\n",
       "\n",
       "mpl.figure.prototype.push_to_output = function (_remove_interactive) {\n",
       "    // Turn the data on the canvas into data in the output cell.\n",
       "    var width = this.canvas.width / this.ratio;\n",
       "    var dataURL = this.canvas.toDataURL();\n",
       "    this.cell_info[1]['text/html'] =\n",
       "        '<img src=\"' + dataURL + '\" width=\"' + width + '\">';\n",
       "};\n",
       "\n",
       "mpl.figure.prototype.updated_canvas_event = function () {\n",
       "    // Tell IPython that the notebook contents must change.\n",
       "    IPython.notebook.set_dirty(true);\n",
       "    this.send_message('ack', {});\n",
       "    var fig = this;\n",
       "    // Wait a second, then push the new image to the DOM so\n",
       "    // that it is saved nicely (might be nice to debounce this).\n",
       "    setTimeout(function () {\n",
       "        fig.push_to_output();\n",
       "    }, 1000);\n",
       "};\n",
       "\n",
       "mpl.figure.prototype._init_toolbar = function () {\n",
       "    var fig = this;\n",
       "\n",
       "    var toolbar = document.createElement('div');\n",
       "    toolbar.classList = 'btn-toolbar';\n",
       "    this.root.appendChild(toolbar);\n",
       "\n",
       "    function on_click_closure(name) {\n",
       "        return function (_event) {\n",
       "            return fig.toolbar_button_onclick(name);\n",
       "        };\n",
       "    }\n",
       "\n",
       "    function on_mouseover_closure(tooltip) {\n",
       "        return function (event) {\n",
       "            if (!event.currentTarget.disabled) {\n",
       "                return fig.toolbar_button_onmouseover(tooltip);\n",
       "            }\n",
       "        };\n",
       "    }\n",
       "\n",
       "    fig.buttons = {};\n",
       "    var buttonGroup = document.createElement('div');\n",
       "    buttonGroup.classList = 'btn-group';\n",
       "    var button;\n",
       "    for (var toolbar_ind in mpl.toolbar_items) {\n",
       "        var name = mpl.toolbar_items[toolbar_ind][0];\n",
       "        var tooltip = mpl.toolbar_items[toolbar_ind][1];\n",
       "        var image = mpl.toolbar_items[toolbar_ind][2];\n",
       "        var method_name = mpl.toolbar_items[toolbar_ind][3];\n",
       "\n",
       "        if (!name) {\n",
       "            /* Instead of a spacer, we start a new button group. */\n",
       "            if (buttonGroup.hasChildNodes()) {\n",
       "                toolbar.appendChild(buttonGroup);\n",
       "            }\n",
       "            buttonGroup = document.createElement('div');\n",
       "            buttonGroup.classList = 'btn-group';\n",
       "            continue;\n",
       "        }\n",
       "\n",
       "        button = fig.buttons[name] = document.createElement('button');\n",
       "        button.classList = 'btn btn-default';\n",
       "        button.href = '#';\n",
       "        button.title = name;\n",
       "        button.innerHTML = '<i class=\"fa ' + image + ' fa-lg\"></i>';\n",
       "        button.addEventListener('click', on_click_closure(method_name));\n",
       "        button.addEventListener('mouseover', on_mouseover_closure(tooltip));\n",
       "        buttonGroup.appendChild(button);\n",
       "    }\n",
       "\n",
       "    if (buttonGroup.hasChildNodes()) {\n",
       "        toolbar.appendChild(buttonGroup);\n",
       "    }\n",
       "\n",
       "    // Add the status bar.\n",
       "    var status_bar = document.createElement('span');\n",
       "    status_bar.classList = 'mpl-message pull-right';\n",
       "    toolbar.appendChild(status_bar);\n",
       "    this.message = status_bar;\n",
       "\n",
       "    // Add the close button to the window.\n",
       "    var buttongrp = document.createElement('div');\n",
       "    buttongrp.classList = 'btn-group inline pull-right';\n",
       "    button = document.createElement('button');\n",
       "    button.classList = 'btn btn-mini btn-primary';\n",
       "    button.href = '#';\n",
       "    button.title = 'Stop Interaction';\n",
       "    button.innerHTML = '<i class=\"fa fa-power-off icon-remove icon-large\"></i>';\n",
       "    button.addEventListener('click', function (_evt) {\n",
       "        fig.handle_close(fig, {});\n",
       "    });\n",
       "    button.addEventListener(\n",
       "        'mouseover',\n",
       "        on_mouseover_closure('Stop Interaction')\n",
       "    );\n",
       "    buttongrp.appendChild(button);\n",
       "    var titlebar = this.root.querySelector('.ui-dialog-titlebar');\n",
       "    titlebar.insertBefore(buttongrp, titlebar.firstChild);\n",
       "};\n",
       "\n",
       "mpl.figure.prototype._remove_fig_handler = function (event) {\n",
       "    var fig = event.data.fig;\n",
       "    if (event.target !== this) {\n",
       "        // Ignore bubbled events from children.\n",
       "        return;\n",
       "    }\n",
       "    fig.close_ws(fig, {});\n",
       "};\n",
       "\n",
       "mpl.figure.prototype._root_extra_style = function (el) {\n",
       "    el.style.boxSizing = 'content-box'; // override notebook setting of border-box.\n",
       "};\n",
       "\n",
       "mpl.figure.prototype._canvas_extra_style = function (el) {\n",
       "    // this is important to make the div 'focusable\n",
       "    el.setAttribute('tabindex', 0);\n",
       "    // reach out to IPython and tell the keyboard manager to turn it's self\n",
       "    // off when our div gets focus\n",
       "\n",
       "    // location in version 3\n",
       "    if (IPython.notebook.keyboard_manager) {\n",
       "        IPython.notebook.keyboard_manager.register_events(el);\n",
       "    } else {\n",
       "        // location in version 2\n",
       "        IPython.keyboard_manager.register_events(el);\n",
       "    }\n",
       "};\n",
       "\n",
       "mpl.figure.prototype._key_event_extra = function (event, _name) {\n",
       "    // Check for shift+enter\n",
       "    if (event.shiftKey && event.which === 13) {\n",
       "        this.canvas_div.blur();\n",
       "        // select the cell after this one\n",
       "        var index = IPython.notebook.find_cell_index(this.cell_info[0]);\n",
       "        IPython.notebook.select(index + 1);\n",
       "    }\n",
       "};\n",
       "\n",
       "mpl.figure.prototype.handle_save = function (fig, _msg) {\n",
       "    fig.ondownload(fig, null);\n",
       "};\n",
       "\n",
       "mpl.find_output_cell = function (html_output) {\n",
       "    // Return the cell and output element which can be found *uniquely* in the notebook.\n",
       "    // Note - this is a bit hacky, but it is done because the \"notebook_saving.Notebook\"\n",
       "    // IPython event is triggered only after the cells have been serialised, which for\n",
       "    // our purposes (turning an active figure into a static one), is too late.\n",
       "    var cells = IPython.notebook.get_cells();\n",
       "    var ncells = cells.length;\n",
       "    for (var i = 0; i < ncells; i++) {\n",
       "        var cell = cells[i];\n",
       "        if (cell.cell_type === 'code') {\n",
       "            for (var j = 0; j < cell.output_area.outputs.length; j++) {\n",
       "                var data = cell.output_area.outputs[j];\n",
       "                if (data.data) {\n",
       "                    // IPython >= 3 moved mimebundle to data attribute of output\n",
       "                    data = data.data;\n",
       "                }\n",
       "                if (data['text/html'] === html_output) {\n",
       "                    return [cell, data, j];\n",
       "                }\n",
       "            }\n",
       "        }\n",
       "    }\n",
       "};\n",
       "\n",
       "// Register the function which deals with the matplotlib target/channel.\n",
       "// The kernel may be null if the page has been refreshed.\n",
       "if (IPython.notebook.kernel !== null) {\n",
       "    IPython.notebook.kernel.comm_manager.register_target(\n",
       "        'matplotlib',\n",
       "        mpl.mpl_figure_comm\n",
       "    );\n",
       "}\n"
      ],
      "text/plain": [
       "<IPython.core.display.Javascript object>"
      ]
     },
     "metadata": {},
     "output_type": "display_data"
    },
    {
     "data": {
      "text/html": [
       "<img src=\"data:image/png;base64,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\" width=\"1000\">"
      ],
      "text/plain": [
       "<IPython.core.display.HTML object>"
      ]
     },
     "metadata": {},
     "output_type": "display_data"
    }
   ],
   "source": [
    "view(result)"
   ]
  },
  {
   "cell_type": "markdown",
   "metadata": {},
   "source": [
    "## Self-reading"
   ]
  },
  {
   "cell_type": "markdown",
   "metadata": {},
   "source": [
    "- https://realpython.com/pointers-in-python/?fbclid=IwAR0cNGOTG3oL6-7gqZXgzGllS6FYHxjBMK8yrMT0SzW433yo87Vfc0SbxyY\n",
    "- https://mmazurek.dev/for-vs-list-comprehension-vs-map/?fbclid=IwAR1X8YDJE864J-umb05N_BjMtOvQyNDfFE_R8iO3A6tF7KcOA-is0ad-uj0"
   ]
  },
  {
   "cell_type": "code",
   "execution_count": null,
   "metadata": {},
   "outputs": [],
   "source": []
  }
 ],
 "metadata": {
  "celltoolbar": "Slideshow",
  "kernelspec": {
   "display_name": "Python 3 (ipykernel)",
   "language": "python",
   "name": "python3"
  },
  "language_info": {
   "codemirror_mode": {
    "name": "ipython",
    "version": 3
   },
   "file_extension": ".py",
   "mimetype": "text/x-python",
   "name": "python",
   "nbconvert_exporter": "python",
   "pygments_lexer": "ipython3",
   "version": "3.9.9"
  }
 },
 "nbformat": 4,
 "nbformat_minor": 2
}
