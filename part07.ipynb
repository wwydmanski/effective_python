{
 "cells": [
  {
   "cell_type": "markdown",
   "metadata": {
    "slideshow": {
     "slide_type": "slide"
    }
   },
   "source": [
    "# Efektywne programowanie w języku Python \n",
    "\n",
    "## wykład 7"
   ]
  },
  {
   "cell_type": "markdown",
   "metadata": {
    "slideshow": {
     "slide_type": "slide"
    }
   },
   "source": [
    "## Object-Oriented Python"
   ]
  },
  {
   "cell_type": "markdown",
   "metadata": {
    "slideshow": {
     "slide_type": "fragment"
    }
   },
   "source": [
    "- An **object** has identity\n",
    "- A **name** is a reference to an object\n",
    "- A **namespace** is an associative mapping from names to objects\n",
    "- An **attribute** is any name following a dot ('.')"
   ]
  },
  {
   "cell_type": "markdown",
   "metadata": {
    "slideshow": {
     "slide_type": "slide"
    }
   },
   "source": [
    "## Classes"
   ]
  },
  {
   "cell_type": "markdown",
   "metadata": {
    "slideshow": {
     "slide_type": "subslide"
    }
   },
   "source": [
    "### Class Definition Syntax"
   ]
  },
  {
   "cell_type": "code",
   "execution_count": null,
   "metadata": {
    "slideshow": {
     "slide_type": "fragment"
    }
   },
   "outputs": [],
   "source": [
    "# the class keyword introduces a new class definition\n",
    "class ClassName:\n",
    "    <statement>\n",
    "    <statement>\n",
    "    ...\n",
    "# must be executed to have effect (like def)"
   ]
  },
  {
   "cell_type": "markdown",
   "metadata": {
    "slideshow": {
     "slide_type": "subslide"
    }
   },
   "source": [
    "#### Class Definitions\n"
   ]
  },
  {
   "cell_type": "markdown",
   "metadata": {
    "slideshow": {
     "slide_type": "fragment"
    }
   },
   "source": [
    "- Statements are usually assignments or function definitions\n",
    "- Entering a class definition creates a new \"namespace\"-ish\n",
    "    - Really, a special **`__dict__`** attribute where others live\n",
    "- Exiting a class definition creates a class object\n",
    "    - Defining a class **==** creating a class object (like int, str)\n",
    "    - Defining a class **!=** instantiating a class"
   ]
  },
  {
   "cell_type": "markdown",
   "metadata": {
    "slideshow": {
     "slide_type": "subslide"
    }
   },
   "source": [
    "### Class Objects vs. Instance Objects"
   ]
  },
  {
   "cell_type": "markdown",
   "metadata": {
    "slideshow": {
     "slide_type": "fragment"
    }
   },
   "source": [
    "> **Defining a class** creates a class object\n",
    "> - Supports attribute reference and instantiation\n",
    "\n",
    "\n",
    "\n",
    "> **Instantiating a class** object creates an instance object\n",
    "> - Only supports attribute reference"
   ]
  },
  {
   "cell_type": "markdown",
   "metadata": {
    "slideshow": {
     "slide_type": "subslide"
    }
   },
   "source": [
    "### Class Attribute References"
   ]
  },
  {
   "cell_type": "code",
   "execution_count": null,
   "metadata": {
    "slideshow": {
     "slide_type": "fragment"
    }
   },
   "outputs": [],
   "source": [
    "class MyClass:\n",
    "    \"\"\"A simple example class\"\"\"\n",
    "    num = 12345\n",
    "    \n",
    "    def greet(self):\n",
    "        return \"Hello world!\""
   ]
  },
  {
   "cell_type": "code",
   "execution_count": null,
   "metadata": {
    "slideshow": {
     "slide_type": "fragment"
    }
   },
   "outputs": [],
   "source": [
    "# Attribute References\n",
    "MyClass.num # => 12345 (int object)\n",
    "MyClass.greet # => <function f> (function object)"
   ]
  },
  {
   "cell_type": "markdown",
   "metadata": {
    "slideshow": {
     "slide_type": "fragment"
    }
   },
   "source": [
    "> **Warning!** Class attributes can be written to by the client"
   ]
  },
  {
   "cell_type": "markdown",
   "metadata": {
    "slideshow": {
     "slide_type": "slide"
    }
   },
   "source": [
    "## Class Instantiation"
   ]
  },
  {
   "cell_type": "markdown",
   "metadata": {
    "slideshow": {
     "slide_type": "fragment"
    }
   },
   "source": [
    "# `x = MyClass(args)`"
   ]
  },
  {
   "cell_type": "markdown",
   "metadata": {
    "slideshow": {
     "slide_type": "fragment"
    }
   },
   "source": [
    "**\"Instantiating\"** a class constructs an instance object of that class object.\n",
    "\n",
    "In this case, x is an instance object of the MyClass class object"
   ]
  },
  {
   "cell_type": "markdown",
   "metadata": {
    "slideshow": {
     "slide_type": "subslide"
    }
   },
   "source": [
    "## Custom Constructor using `__init__`"
   ]
  },
  {
   "cell_type": "code",
   "execution_count": null,
   "metadata": {
    "slideshow": {
     "slide_type": "fragment"
    }
   },
   "outputs": [],
   "source": [
    "class Complex:\n",
    "    def __init__(self, realpart=0, imagpart=0):\n",
    "        self.real = realpart\n",
    "        self.imag = imagpart"
   ]
  },
  {
   "cell_type": "markdown",
   "metadata": {
    "slideshow": {
     "slide_type": "fragment"
    }
   },
   "source": [
    "> Class instantiation calls the special method `__init__` if it exists"
   ]
  },
  {
   "cell_type": "code",
   "execution_count": null,
   "metadata": {
    "slideshow": {
     "slide_type": "fragment"
    }
   },
   "outputs": [],
   "source": [
    "# Make an instance object `c`!\n",
    "c = Complex(3.0, -4.5)\n",
    "c.real, c.imag # => (3.0, -4.5)"
   ]
  },
  {
   "cell_type": "markdown",
   "metadata": {
    "slideshow": {
     "slide_type": "slide"
    }
   },
   "source": [
    "`__init__` vs.  `__new__`\n",
    "\n",
    "https://dev.to/delta456/python-init-is-not-a-constructor-12on"
   ]
  },
  {
   "cell_type": "markdown",
   "metadata": {
    "slideshow": {
     "slide_type": "slide"
    }
   },
   "source": [
    "## Instance Objects"
   ]
  },
  {
   "cell_type": "code",
   "execution_count": null,
   "metadata": {
    "slideshow": {
     "slide_type": "subslide"
    }
   },
   "outputs": [],
   "source": [
    "c = Complex(3.0, -4.5)\n",
    "\n",
    "# Get attributes\n",
    "c.real, c.imag # => (3.0, -4.5)\n",
    "\n",
    "# Set attributes\n",
    "c.real = -9.2\n",
    "c.imag = 4.1"
   ]
  },
  {
   "cell_type": "markdown",
   "metadata": {
    "slideshow": {
     "slide_type": "subslide"
    }
   },
   "source": [
    "### Instance Attribute Reference Resolution"
   ]
  },
  {
   "cell_type": "code",
   "execution_count": 47,
   "metadata": {
    "slideshow": {
     "slide_type": "fragment"
    }
   },
   "outputs": [],
   "source": [
    "class MyOtherClass():\n",
    "    num = 12345\n",
    "    def __init__(self):\n",
    "        self.num = 0"
   ]
  },
  {
   "cell_type": "code",
   "execution_count": 48,
   "metadata": {
    "slideshow": {
     "slide_type": "fragment"
    }
   },
   "outputs": [
    {
     "name": "stdout",
     "output_type": "stream",
     "text": [
      "0\n",
      "12345\n"
     ]
    },
    {
     "ename": "AttributeError",
     "evalue": "type object 'MyOtherClass' has no attribute 'num'",
     "output_type": "error",
     "traceback": [
      "\u001b[1;31m---------------------------------------------------------------------------\u001b[0m",
      "\u001b[1;31mAttributeError\u001b[0m                            Traceback (most recent call last)",
      "\u001b[1;32m~\\AppData\\Local\\Temp/ipykernel_1380/440259524.py\u001b[0m in \u001b[0;36m<module>\u001b[1;34m\u001b[0m\n\u001b[0;32m      4\u001b[0m \u001b[0mprint\u001b[0m\u001b[1;33m(\u001b[0m\u001b[0mx\u001b[0m\u001b[1;33m.\u001b[0m\u001b[0mnum\u001b[0m\u001b[1;33m)\u001b[0m \u001b[1;31m# 0 or 12345?\u001b[0m\u001b[1;33m\u001b[0m\u001b[1;33m\u001b[0m\u001b[0m\n\u001b[0;32m      5\u001b[0m \u001b[1;32mdel\u001b[0m \u001b[0mMyOtherClass\u001b[0m\u001b[1;33m.\u001b[0m\u001b[0mnum\u001b[0m\u001b[1;33m\u001b[0m\u001b[1;33m\u001b[0m\u001b[0m\n\u001b[1;32m----> 6\u001b[1;33m \u001b[0mprint\u001b[0m\u001b[1;33m(\u001b[0m\u001b[0mMyOtherClass\u001b[0m\u001b[1;33m.\u001b[0m\u001b[0mnum\u001b[0m\u001b[1;33m)\u001b[0m\u001b[1;33m\u001b[0m\u001b[1;33m\u001b[0m\u001b[0m\n\u001b[0m",
      "\u001b[1;31mAttributeError\u001b[0m: type object 'MyOtherClass' has no attribute 'num'"
     ]
    }
   ],
   "source": [
    "x = MyOtherClass()\n",
    "print(x.num) # 0 or 12345?\n",
    "del x.num\n",
    "print(x.num) # 0 or 12345?\n",
    "del MyOtherClass.num\n",
    "print(MyOtherClass.num)"
   ]
  },
  {
   "cell_type": "markdown",
   "metadata": {
    "slideshow": {
     "slide_type": "fragment"
    }
   },
   "source": [
    "> Attribute references first search the instance's `__dict__` attribute, then the class object's"
   ]
  },
  {
   "cell_type": "markdown",
   "metadata": {
    "slideshow": {
     "slide_type": "subslide"
    }
   },
   "source": [
    "### Setting Data Attributes"
   ]
  },
  {
   "cell_type": "code",
   "execution_count": null,
   "metadata": {
    "slideshow": {
     "slide_type": "fragment"
    }
   },
   "outputs": [],
   "source": [
    "# You can set attributes on instance (and class) objects\n",
    "# on the fly (we used this in the constructor!)\n",
    "c.counter = 1\n",
    "while c.counter < 10:\n",
    "    c.counter = x.counter * 2\n",
    "    print(c.counter)\n",
    "\n",
    "del c.counter # Leaves no trace\n",
    "\n",
    "# prints 1, 2, 4, 8"
   ]
  },
  {
   "cell_type": "markdown",
   "metadata": {
    "slideshow": {
     "slide_type": "fragment"
    }
   },
   "source": [
    "> Setting attributes actually inserts into the instance object's `__dict__` attribute"
   ]
  },
  {
   "cell_type": "markdown",
   "metadata": {
    "slideshow": {
     "slide_type": "slide"
    }
   },
   "source": [
    "## Methods vs. Functions"
   ]
  },
  {
   "cell_type": "code",
   "execution_count": null,
   "metadata": {
    "slideshow": {
     "slide_type": "subslide"
    }
   },
   "outputs": [],
   "source": [
    "class MyClass:\n",
    "    \"\"\"A simple example class\"\"\"\n",
    "    num = 12345\n",
    "    def greet(self):\n",
    "        return \"Hello world!\""
   ]
  },
  {
   "cell_type": "code",
   "execution_count": null,
   "metadata": {
    "slideshow": {
     "slide_type": "fragment"
    }
   },
   "outputs": [],
   "source": [
    "x = MyClass()\n",
    "x.greet() # 'Hello world!'\n",
    "# Weird... doesn't `greet` accept an argument?\n",
    "\n",
    "print(type(x.greet)) # method\n",
    "print(type(MyClass.greet)) # function\n",
    "\n",
    "print(x.num is MyClass.num) # True\n",
    "print(x.greet is MyClass.greet) # False"
   ]
  },
  {
   "cell_type": "markdown",
   "metadata": {
    "slideshow": {
     "slide_type": "subslide"
    }
   },
   "source": [
    "A **method** is a function bound to an object \n",
    "> method ≈ (object, function)"
   ]
  },
  {
   "cell_type": "markdown",
   "metadata": {
    "slideshow": {
     "slide_type": "fragment"
    }
   },
   "source": [
    "Methods calls invoke special semantics\n",
    "\n",
    "> object.method(arguments) = function(object, arguments)"
   ]
  },
  {
   "cell_type": "markdown",
   "metadata": {
    "slideshow": {
     "slide_type": "subslide"
    }
   },
   "source": [
    "#### Example"
   ]
  },
  {
   "cell_type": "code",
   "execution_count": null,
   "metadata": {
    "slideshow": {
     "slide_type": "subslide"
    }
   },
   "outputs": [],
   "source": [
    "class Pizza:\n",
    "    def __init__(self, radius, toppings, slices=8):\n",
    "        self.radius = radius\n",
    "        self.toppings = toppings\n",
    "        self.slices_left = slices\n",
    "    def eat_slice(self):\n",
    "        if self.slices_left > 0:\n",
    "            self.slices_left -= 1\n",
    "        else:\n",
    "            print(\"Oh no! Out of pizza\")\n",
    "    def __repr__(self):\n",
    "        return '{}\" pizza'.format(self.radius)"
   ]
  },
  {
   "cell_type": "code",
   "execution_count": null,
   "metadata": {
    "slideshow": {
     "slide_type": "subslide"
    }
   },
   "outputs": [],
   "source": [
    "p = Pizza(14, (\"Pepperoni\", \"Olives\"), slices=12)\n",
    "print(Pizza.eat_slice)\n",
    "# => <function Pizza.eat_slice>"
   ]
  },
  {
   "cell_type": "code",
   "execution_count": null,
   "metadata": {
    "slideshow": {
     "slide_type": "fragment"
    }
   },
   "outputs": [],
   "source": [
    "print(p.eat_slice)\n",
    "# => <bound method Pizza.eat_slice of 14\" Pizza>"
   ]
  },
  {
   "cell_type": "code",
   "execution_count": null,
   "metadata": {
    "slideshow": {
     "slide_type": "fragment"
    }
   },
   "outputs": [],
   "source": [
    "method = p.eat_slice\n",
    "method.__self__ # => 14\" Pizza\n",
    "method.__func__ # => <function Pizza.eat_slice>"
   ]
  },
  {
   "cell_type": "code",
   "execution_count": null,
   "metadata": {
    "slideshow": {
     "slide_type": "fragment"
    }
   },
   "outputs": [],
   "source": [
    "p.eat_slice() # Implicitly calls Pizza.eat_slice(p)"
   ]
  },
  {
   "cell_type": "markdown",
   "metadata": {
    "slideshow": {
     "slide_type": "slide"
    }
   },
   "source": [
    "## Class and Instance Variables"
   ]
  },
  {
   "cell_type": "code",
   "execution_count": null,
   "metadata": {
    "slideshow": {
     "slide_type": "subslide"
    }
   },
   "outputs": [],
   "source": [
    "class Dog:\n",
    "    kind = 'Canine' # class variable shared by all instances\n",
    "    \n",
    "    def __init__(self, name):\n",
    "        self.name = name # instance variable unique to each instance\n",
    "        \n",
    "a = Dog('Astro')\n",
    "pb = Dog('Mr. Peanut Butter')\n",
    "\n",
    "a.kind      # 'Canine' (shared by all dogs)\n",
    "pb.kind    # 'Canine' (shared by all dogs)\n",
    "a.name   # 'Astro' (unique to a)\n",
    "pb.name # 'Mr. Peanut Butter' (unique to pb)"
   ]
  },
  {
   "cell_type": "markdown",
   "metadata": {
    "slideshow": {
     "slide_type": "subslide"
    }
   },
   "source": [
    "### Warning"
   ]
  },
  {
   "cell_type": "code",
   "execution_count": null,
   "metadata": {
    "slideshow": {
     "slide_type": "subslide"
    }
   },
   "outputs": [],
   "source": [
    "class Dog:\n",
    "    tricks = []\n",
    "    def __init__(self, name):\n",
    "        self.name = name\n",
    "    def add_trick(self, trick):\n",
    "        self.tricks.append(trick)"
   ]
  },
  {
   "cell_type": "markdown",
   "metadata": {
    "slideshow": {
     "slide_type": "fragment"
    }
   },
   "source": [
    "> What could go wrong?"
   ]
  },
  {
   "cell_type": "code",
   "execution_count": null,
   "metadata": {
    "slideshow": {
     "slide_type": "fragment"
    }
   },
   "outputs": [],
   "source": [
    "d = Dog('Fido')\n",
    "e = Dog('Buddy')\n",
    "d.add_trick('roll over')\n",
    "e.add_trick('play dead')\n",
    "d.tricks # => ['roll over', 'play dead'] (shared value)"
   ]
  },
  {
   "cell_type": "markdown",
   "metadata": {
    "slideshow": {
     "slide_type": "subslide"
    }
   },
   "source": [
    "#### Solution I"
   ]
  },
  {
   "cell_type": "code",
   "execution_count": 49,
   "metadata": {
    "slideshow": {
     "slide_type": "fragment"
    }
   },
   "outputs": [],
   "source": [
    "class Dog:\n",
    "    # Let's try a default argument!\n",
    "    def __init__(self, name='', tricks=[]):\n",
    "        self.name = name\n",
    "        self.tricks = tricks\n",
    "    def add_trick(self, trick):\n",
    "        self.tricks.append(trick)"
   ]
  },
  {
   "cell_type": "code",
   "execution_count": 50,
   "metadata": {
    "slideshow": {
     "slide_type": "fragment"
    }
   },
   "outputs": [
    {
     "data": {
      "text/plain": [
       "['roll over', 'play dead']"
      ]
     },
     "execution_count": 50,
     "metadata": {},
     "output_type": "execute_result"
    }
   ],
   "source": [
    "d = Dog('Fido')\n",
    "e = Dog('Buddy')\n",
    "d.add_trick('roll over')\n",
    "e.add_trick('play dead')\n",
    "d.tricks # => ['roll over', 'play dead'] (shared value)"
   ]
  },
  {
   "cell_type": "markdown",
   "metadata": {
    "slideshow": {
     "slide_type": "subslide"
    }
   },
   "source": [
    "#### Solution II"
   ]
  },
  {
   "cell_type": "code",
   "execution_count": 51,
   "metadata": {
    "slideshow": {
     "slide_type": "fragment"
    }
   },
   "outputs": [],
   "source": [
    "class Dog:\n",
    "    def __init__(self, name):\n",
    "        self.name = name\n",
    "        self.tricks = [] # New list for each dog\n",
    "    def add_trick(self, trick):\n",
    "        self.tricks.append(trick)"
   ]
  },
  {
   "cell_type": "code",
   "execution_count": 52,
   "metadata": {
    "slideshow": {
     "slide_type": "fragment"
    }
   },
   "outputs": [
    {
     "data": {
      "text/plain": [
       "['play dead']"
      ]
     },
     "execution_count": 52,
     "metadata": {},
     "output_type": "execute_result"
    }
   ],
   "source": [
    "d = Dog('Fido')\n",
    "e = Dog('Buddy')\n",
    "d.add_trick('roll over')\n",
    "e.add_trick('play dead')\n",
    "d.tricks # => ['roll over']\n",
    "e.tricks # => ['play dead']"
   ]
  },
  {
   "cell_type": "markdown",
   "metadata": {
    "slideshow": {
     "slide_type": "slide"
    }
   },
   "source": [
    "## Getters and Setters\n",
    "\n",
    "- Getter: A method that allows you to access an attribute in a given class\n",
    "- Setter: A method that allows you to set or mutate the value of an attribute in a class"
   ]
  },
  {
   "cell_type": "code",
   "execution_count": 53,
   "metadata": {
    "slideshow": {
     "slide_type": "slide"
    }
   },
   "outputs": [],
   "source": [
    "class Label:\n",
    "    def __init__(self, text, font):\n",
    "        self._text = text\n",
    "        self._font = font\n",
    "\n",
    "    def get_text(self):\n",
    "        return self._text\n",
    "\n",
    "    def set_text(self, value):\n",
    "        self._text = value\n",
    "\n",
    "    def get_font(self):\n",
    "        return self._font\n",
    "\n",
    "    def set_font(self, value):\n",
    "        self._font = value"
   ]
  },
  {
   "cell_type": "code",
   "execution_count": 54,
   "metadata": {
    "slideshow": {
     "slide_type": "slide"
    }
   },
   "outputs": [
    {
     "data": {
      "text/plain": [
       "'Fruits'"
      ]
     },
     "execution_count": 54,
     "metadata": {},
     "output_type": "execute_result"
    }
   ],
   "source": [
    "label = Label(\"Fruits\", \"JetBrains Mono NL\")\n",
    "label.get_text()"
   ]
  },
  {
   "cell_type": "code",
   "execution_count": 55,
   "metadata": {
    "slideshow": {
     "slide_type": "fragment"
    }
   },
   "outputs": [],
   "source": [
    "label.set_text(\"Vegetables\")"
   ]
  },
  {
   "cell_type": "code",
   "execution_count": 56,
   "metadata": {
    "slideshow": {
     "slide_type": "fragment"
    }
   },
   "outputs": [
    {
     "data": {
      "text/plain": [
       "'Vegetables'"
      ]
     },
     "execution_count": 56,
     "metadata": {},
     "output_type": "execute_result"
    }
   ],
   "source": [
    "label.get_text()"
   ]
  },
  {
   "cell_type": "code",
   "execution_count": 57,
   "metadata": {
    "slideshow": {
     "slide_type": "fragment"
    }
   },
   "outputs": [
    {
     "data": {
      "text/plain": [
       "'JetBrains Mono NL'"
      ]
     },
     "execution_count": 57,
     "metadata": {},
     "output_type": "execute_result"
    }
   ],
   "source": [
    "label.get_font()"
   ]
  },
  {
   "cell_type": "markdown",
   "metadata": {
    "slideshow": {
     "slide_type": "slide"
    }
   },
   "source": [
    "### Write getter and setter methods in your classes"
   ]
  },
  {
   "cell_type": "code",
   "execution_count": 58,
   "metadata": {
    "slideshow": {
     "slide_type": "slide"
    }
   },
   "outputs": [],
   "source": [
    "class Label:\n",
    "    def __init__(self, text, font):\n",
    "        self.set_text(text)\n",
    "        self.font = font\n",
    "\n",
    "    def get_text(self):\n",
    "        return self._text\n",
    "\n",
    "    def set_text(self, value):\n",
    "        self._text = value.upper()  # Attached behavior"
   ]
  },
  {
   "cell_type": "code",
   "execution_count": 59,
   "metadata": {
    "slideshow": {
     "slide_type": "slide"
    }
   },
   "outputs": [
    {
     "data": {
      "text/plain": [
       "'FRUITS'"
      ]
     },
     "execution_count": 59,
     "metadata": {},
     "output_type": "execute_result"
    }
   ],
   "source": [
    "label = Label(\"Fruits\", \"JetBrains Mono NL\")\n",
    "label.get_text()"
   ]
  },
  {
   "cell_type": "code",
   "execution_count": 60,
   "metadata": {
    "slideshow": {
     "slide_type": "fragment"
    }
   },
   "outputs": [
    {
     "data": {
      "text/plain": [
       "'VEGETABLES'"
      ]
     },
     "execution_count": 60,
     "metadata": {},
     "output_type": "execute_result"
    }
   ],
   "source": [
    "label.set_text(\"Vegetables\")\n",
    "label.get_text()"
   ]
  },
  {
   "cell_type": "markdown",
   "metadata": {
    "slideshow": {
     "slide_type": "slide"
    }
   },
   "source": [
    "### Replace getter and setter methods with properties"
   ]
  },
  {
   "cell_type": "code",
   "execution_count": 61,
   "metadata": {
    "slideshow": {
     "slide_type": "slide"
    }
   },
   "outputs": [],
   "source": [
    "from datetime import date\n",
    "\n",
    "class Employee:\n",
    "    def __init__(self, name, birth_date):\n",
    "        self.name = name\n",
    "        self.birth_date = birth_date\n",
    "\n",
    "    @property\n",
    "    def name(self):\n",
    "        return self._name\n",
    "\n",
    "    @name.setter\n",
    "    def name(self, value):\n",
    "        self._name = value.upper()\n",
    "\n",
    "    @property\n",
    "    def birth_date(self):\n",
    "        return self._birth_date\n",
    "\n",
    "    @birth_date.setter\n",
    "    def birth_date(self, value):\n",
    "        self._birth_date = date.fromisoformat(value)"
   ]
  },
  {
   "cell_type": "code",
   "execution_count": 62,
   "metadata": {
    "slideshow": {
     "slide_type": "slide"
    }
   },
   "outputs": [
    {
     "data": {
      "text/plain": [
       "'JOHN'"
      ]
     },
     "execution_count": 62,
     "metadata": {},
     "output_type": "execute_result"
    }
   ],
   "source": [
    "john = Employee(\"John\", \"2001-02-07\")\n",
    "\n",
    "john.name"
   ]
  },
  {
   "cell_type": "code",
   "execution_count": 63,
   "metadata": {
    "slideshow": {
     "slide_type": "fragment"
    }
   },
   "outputs": [
    {
     "data": {
      "text/plain": [
       "datetime.date(2001, 2, 7)"
      ]
     },
     "execution_count": 63,
     "metadata": {},
     "output_type": "execute_result"
    }
   ],
   "source": [
    "john.birth_date"
   ]
  },
  {
   "cell_type": "code",
   "execution_count": 64,
   "metadata": {
    "slideshow": {
     "slide_type": "fragment"
    }
   },
   "outputs": [
    {
     "data": {
      "text/plain": [
       "'JOHN DOE'"
      ]
     },
     "execution_count": 64,
     "metadata": {},
     "output_type": "execute_result"
    }
   ],
   "source": [
    "john.name = \"John Doe\"\n",
    "john.name"
   ]
  },
  {
   "cell_type": "markdown",
   "metadata": {
    "slideshow": {
     "slide_type": "slide"
    }
   },
   "source": [
    "For simple public data attributes, it’s best to expose just the attribute name, without complicated accessor/mutator methods. Keep in mind that Python provides an easy path to future enhancement, should you find that a simple data attribute needs to grow functional behavior. In that case, use properties to hide functional implementation behind simple data attribute access syntax."
   ]
  },
  {
   "cell_type": "markdown",
   "metadata": {
    "slideshow": {
     "slide_type": "slide"
    }
   },
   "source": [
    "- Use public attributes whenever appropriate, even if you expect the attribute to require functional behavior in the future.\n",
    "- Avoid defining setter and getter methods for your attributes. You can always turn them into properties if needed.\n",
    "- Use properties when you need to attach behavior to attributes and keep using them as regular attributes in your code.\n",
    "- Avoid side effects in properties because no one would expect operations like assignments to cause any side effects."
   ]
  },
  {
   "cell_type": "markdown",
   "metadata": {
    "slideshow": {
     "slide_type": "slide"
    }
   },
   "source": [
    "### Explore other tools to replace getter and setter methods in Python"
   ]
  },
  {
   "cell_type": "code",
   "execution_count": 65,
   "metadata": {
    "slideshow": {
     "slide_type": "slide"
    }
   },
   "outputs": [],
   "source": [
    "class Point:\n",
    "    def __init__(self, x, y):\n",
    "        self.x = x\n",
    "        self.y = y\n",
    "\n",
    "    def __getattr__(self, name: str):\n",
    "        return self.__dict__[f\"_{name}\"]\n",
    "\n",
    "    def __setattr__(self, name, value):\n",
    "        self.__dict__[f\"_{name}\"] = float(value)"
   ]
  },
  {
   "cell_type": "code",
   "execution_count": 66,
   "metadata": {
    "slideshow": {
     "slide_type": "subslide"
    }
   },
   "outputs": [
    {
     "name": "stdout",
     "output_type": "stream",
     "text": [
      "(21.0,42.0)\n"
     ]
    }
   ],
   "source": [
    "point = Point(21, 42)\n",
    "\n",
    "print(f'({point.x},{point.y})')"
   ]
  },
  {
   "cell_type": "code",
   "execution_count": 67,
   "metadata": {
    "slideshow": {
     "slide_type": "fragment"
    }
   },
   "outputs": [
    {
     "name": "stdout",
     "output_type": "stream",
     "text": [
      "(84.0,42.0)\n"
     ]
    }
   ],
   "source": [
    "point.x = 84\n",
    "print(f'({point.x},{point.y})')"
   ]
  },
  {
   "cell_type": "code",
   "execution_count": 68,
   "metadata": {
    "slideshow": {
     "slide_type": "fragment"
    }
   },
   "outputs": [
    {
     "data": {
      "text/plain": [
       "['__class__',\n",
       " '__delattr__',\n",
       " '__dict__',\n",
       " '__dir__',\n",
       " '__doc__',\n",
       " '__eq__',\n",
       " '__format__',\n",
       " '__ge__',\n",
       " '__getattr__',\n",
       " '__getattribute__',\n",
       " '__gt__',\n",
       " '__hash__',\n",
       " '__init__',\n",
       " '__init_subclass__',\n",
       " '__le__',\n",
       " '__lt__',\n",
       " '__module__',\n",
       " '__ne__',\n",
       " '__new__',\n",
       " '__reduce__',\n",
       " '__reduce_ex__',\n",
       " '__repr__',\n",
       " '__setattr__',\n",
       " '__sizeof__',\n",
       " '__str__',\n",
       " '__subclasshook__',\n",
       " '__weakref__',\n",
       " '_x',\n",
       " '_y']"
      ]
     },
     "execution_count": 68,
     "metadata": {},
     "output_type": "execute_result"
    }
   ],
   "source": [
    "dir(point)"
   ]
  },
  {
   "cell_type": "markdown",
   "metadata": {
    "slideshow": {
     "slide_type": "slide"
    }
   },
   "source": [
    "`.__getattr__()` and `.__setattr__()` are kind of a generic implementation of the getter and setter pattern. Under the hood, these methods work as getters and setters that support regular attribute access and mutation in Python."
   ]
  },
  {
   "cell_type": "markdown",
   "metadata": {},
   "source": [
    "### Decide when setter and getter methods can be the right tool for the job"
   ]
  },
  {
   "cell_type": "markdown",
   "metadata": {},
   "source": [
    "- Avoiding Slow Methods Behind Properties, use getters and setters\n",
    "- Taking Extra Arguments and Flags, use getters and setters\n",
    "\n",
    "\n",
    "- Story about inheritance: https://realpython.com/python-getter-setter/"
   ]
  },
  {
   "cell_type": "markdown",
   "metadata": {
    "slideshow": {
     "slide_type": "slide"
    }
   },
   "source": [
    "## Privacy and Style"
   ]
  },
  {
   "cell_type": "markdown",
   "metadata": {
    "slideshow": {
     "slide_type": "subslide"
    }
   },
   "source": [
    "# Nothing is truly private!\n",
    "# Clients can modify anything\n",
    "# \"With great power…\""
   ]
  },
  {
   "cell_type": "markdown",
   "metadata": {},
   "source": [
    "- Note: Python doesn’t have the notion of `access modifiers`, such as private, protected, and public, to restrict access to attributes and methods in a class. In Python, the distinction is between public and non-public class members.\n",
    "\n",
    "- If you want to signal that a given attribute or method is non-public, then you should use the well-established Python convention of prefixing the name with an underscore (_).\n",
    "\n",
    "- Note that this is just a convention. It doesn’t stop you and other programmers from accessing the attributes using dot notation, as in obj._attr. However, it’s bad practice to violate this convention."
   ]
  },
  {
   "cell_type": "markdown",
   "metadata": {
    "slideshow": {
     "slide_type": "subslide"
    }
   },
   "source": [
    "#### Stylistic Conventions\n",
    "\n",
    "- A method's first parameter should always be **`self`**\n",
    "    - Why? Explicitly differentiate instance and local variables\n",
    "    - Method calls already provide the calling object as the first argument to the class function\n",
    "- Attribute names prefixed with a leading underscore are intended to be private (e.g. _spam)\n",
    "- Use verbs for methods and nouns for data attributes"
   ]
  },
  {
   "cell_type": "code",
   "execution_count": 69,
   "metadata": {
    "slideshow": {
     "slide_type": "subslide"
    }
   },
   "outputs": [],
   "source": [
    "class Cat:\n",
    "    def __init__(self, name='unnamed'):\n",
    "        self.name = name\n",
    "    def __print_my_name(self):\n",
    "        print(self.name)"
   ]
  },
  {
   "cell_type": "code",
   "execution_count": 70,
   "metadata": {
    "slideshow": {
     "slide_type": "fragment"
    }
   },
   "outputs": [],
   "source": [
    "tom = Cat()"
   ]
  },
  {
   "cell_type": "code",
   "execution_count": 71,
   "metadata": {
    "slideshow": {
     "slide_type": "fragment"
    }
   },
   "outputs": [
    {
     "ename": "AttributeError",
     "evalue": "'Cat' object has no attribute '__print_my_name'",
     "output_type": "error",
     "traceback": [
      "\u001b[1;31m---------------------------------------------------------------------------\u001b[0m",
      "\u001b[1;31mAttributeError\u001b[0m                            Traceback (most recent call last)",
      "\u001b[1;32m~\\AppData\\Local\\Temp/ipykernel_1380/1044675841.py\u001b[0m in \u001b[0;36m<module>\u001b[1;34m\u001b[0m\n\u001b[1;32m----> 1\u001b[1;33m \u001b[0mtom\u001b[0m\u001b[1;33m.\u001b[0m\u001b[0m__print_my_name\u001b[0m\u001b[1;33m(\u001b[0m\u001b[1;33m)\u001b[0m\u001b[1;33m\u001b[0m\u001b[1;33m\u001b[0m\u001b[0m\n\u001b[0m",
      "\u001b[1;31mAttributeError\u001b[0m: 'Cat' object has no attribute '__print_my_name'"
     ]
    }
   ],
   "source": [
    "tom.__print_my_name()"
   ]
  },
  {
   "cell_type": "code",
   "execution_count": 72,
   "metadata": {
    "slideshow": {
     "slide_type": "fragment"
    }
   },
   "outputs": [
    {
     "name": "stdout",
     "output_type": "stream",
     "text": [
      "unnamed\n"
     ]
    }
   ],
   "source": [
    "tom._Cat__print_my_name()"
   ]
  },
  {
   "cell_type": "markdown",
   "metadata": {
    "slideshow": {
     "slide_type": "fragment"
    }
   },
   "source": [
    "https://docs.python.org/3/tutorial/classes.html#tut-private"
   ]
  },
  {
   "cell_type": "markdown",
   "metadata": {
    "slideshow": {
     "slide_type": "slide"
    }
   },
   "source": [
    "## Inheritance"
   ]
  },
  {
   "cell_type": "code",
   "execution_count": null,
   "metadata": {
    "slideshow": {
     "slide_type": "fragment"
    }
   },
   "outputs": [],
   "source": [
    "class DerivedClassName(BaseClassName):\n",
    "    pass"
   ]
  },
  {
   "cell_type": "markdown",
   "metadata": {
    "slideshow": {
     "slide_type": "subslide"
    }
   },
   "source": [
    "#### Facts about Single Inheritance"
   ]
  },
  {
   "cell_type": "markdown",
   "metadata": {
    "slideshow": {
     "slide_type": "fragment"
    }
   },
   "source": [
    "- A class object 'remembers' its base class\n",
    "- Python 3 class objects inherit from object (by default)\n",
    "- Method and attribute lookup begins in the derived class\n",
    "    - Proceeds down the chain of base classes\n",
    "- Derived methods override (shadow) base methods\n",
    "    - Like `virtual` in C++"
   ]
  },
  {
   "cell_type": "markdown",
   "metadata": {
    "slideshow": {
     "slide_type": "slide"
    }
   },
   "source": [
    "## Multiple Inheritance"
   ]
  },
  {
   "cell_type": "code",
   "execution_count": null,
   "metadata": {
    "slideshow": {
     "slide_type": "fragment"
    }
   },
   "outputs": [],
   "source": [
    "class Derived(Base1, Base2, …, BaseN):\n",
    "    pass"
   ]
  },
  {
   "cell_type": "markdown",
   "metadata": {
    "slideshow": {
     "slide_type": "subslide"
    }
   },
   "source": [
    "### Attribute Resolution"
   ]
  },
  {
   "cell_type": "markdown",
   "metadata": {
    "slideshow": {
     "slide_type": "fragment"
    }
   },
   "source": [
    "Attribute lookup is (almost) depth-first, left-to-right\n",
    "- Officially, **C3 superclass linearization** ([Wikipedia](https://en.wikipedia.org/wiki/C3_linearization#Example))"
   ]
  },
  {
   "cell_type": "markdown",
   "metadata": {
    "slideshow": {
     "slide_type": "fragment"
    }
   },
   "source": [
    "Class objects have a (hidden) function attribute .mro()\n",
    "- Shows linearization of base classes"
   ]
  },
  {
   "cell_type": "code",
   "execution_count": 73,
   "metadata": {
    "slideshow": {
     "slide_type": "subslide"
    }
   },
   "outputs": [],
   "source": [
    "class A: pass\n",
    "class B: pass\n",
    "class C: pass\n",
    "class D: pass\n",
    "class E: pass\n",
    "class K1(A, B, C): pass\n",
    "class K2(D, B, E): pass\n",
    "class K3(D, A): pass\n",
    "class Z(K1, K2, K3): pass"
   ]
  },
  {
   "cell_type": "code",
   "execution_count": 74,
   "metadata": {
    "slideshow": {
     "slide_type": "fragment"
    }
   },
   "outputs": [
    {
     "data": {
      "text/plain": [
       "[__main__.Z,\n",
       " __main__.K1,\n",
       " __main__.K2,\n",
       " __main__.K3,\n",
       " __main__.D,\n",
       " __main__.A,\n",
       " __main__.B,\n",
       " __main__.C,\n",
       " __main__.E,\n",
       " object]"
      ]
     },
     "execution_count": 74,
     "metadata": {},
     "output_type": "execute_result"
    }
   ],
   "source": [
    "Z.mro() # [Z, K1, K2, K3, D, A, B, C, E, object]"
   ]
  },
  {
   "cell_type": "markdown",
   "metadata": {
    "slideshow": {
     "slide_type": "slide"
    }
   },
   "source": [
    "## Magic Methods"
   ]
  },
  {
   "cell_type": "markdown",
   "metadata": {
    "slideshow": {
     "slide_type": "fragment"
    }
   },
   "source": [
    "- Python uses `__init__`to build classes\n",
    "    - Overriding `__init__` lets us hook into the language\n",
    "- What else can we do? Can we define classes that act like:\n",
    "    - iterators? lists?\n",
    "    - sets? dictionaries?\n",
    "    - numbers?\n",
    "    - comparables?"
   ]
  },
  {
   "cell_type": "code",
   "execution_count": null,
   "metadata": {
    "slideshow": {
     "slide_type": "subslide"
    }
   },
   "outputs": [],
   "source": [
    "class MagicClass:\n",
    "    def __init__(self): pass\n",
    "    def __contains__(self, key): pass\n",
    "    def __add__(self, other): pass\n",
    "    def __iter__(self): pass\n",
    "    def __next__(self): pass\n",
    "    def __getitem__(self, key): pass\n",
    "    def __len__(self): pass\n",
    "    def __lt__(self, other): pass\n",
    "    def __eq__(self, other): pass\n",
    "    def __str__(self): pass\n",
    "    def __repr__(self): pass # And even more..."
   ]
  },
  {
   "cell_type": "code",
   "execution_count": null,
   "metadata": {
    "slideshow": {
     "slide_type": "subslide"
    }
   },
   "outputs": [],
   "source": [
    "x = MagicClass()\n",
    "y = MagicClass()\n",
    "str(x) # => x.__str__()\n",
    "x == y # => x.__eq__(y)\n",
    "\n",
    "x < y # => x.__lt__(y)\n",
    "x + y # => x.__add__(y)\n",
    "iter(x) # => x.__iter__()\n",
    "next(x) # => x.__next__()\n",
    "len(x) # => x.__len__()\n",
    "el in x # => x.__contains__(el)"
   ]
  },
  {
   "cell_type": "code",
   "execution_count": null,
   "metadata": {
    "slideshow": {
     "slide_type": "subslide"
    }
   },
   "outputs": [],
   "source": [
    "# __len__\n",
    "\n",
    "class Order:\n",
    "    def __init__(self, cart, customer):\n",
    "        self.cart = list(cart)\n",
    "        self.customer = customer\n",
    "    def __len__(self):\n",
    "        return len(self.cart)\n",
    "\n",
    "order = Order(['banana', 'apple', 'mango'], 'Customer')\n",
    "len(order)"
   ]
  },
  {
   "cell_type": "code",
   "execution_count": 75,
   "metadata": {
    "slideshow": {
     "slide_type": "subslide"
    }
   },
   "outputs": [
    {
     "data": {
      "text/plain": [
       "'3i+4j'"
      ]
     },
     "execution_count": 75,
     "metadata": {},
     "output_type": "execute_result"
    }
   ],
   "source": [
    "class Vector:\n",
    "    def __init__(self, x_comp, y_comp):\n",
    "        self.x_comp = x_comp\n",
    "        self.y_comp = y_comp\n",
    "    def __str__(self):\n",
    "        # By default, sign of +ve number is not displayed\n",
    "        # Using `+`, sign is always displayed\n",
    "        return f'{self.x_comp}i{self.y_comp:+}j'\n",
    "\n",
    "vector = Vector(3, 4)\n",
    "str(vector)"
   ]
  },
  {
   "cell_type": "markdown",
   "metadata": {
    "slideshow": {
     "slide_type": "slide"
    }
   },
   "source": [
    "### `str()` vs `repr()` in Python"
   ]
  },
  {
   "cell_type": "markdown",
   "metadata": {
    "slideshow": {
     "slide_type": "fragment"
    }
   },
   "source": [
    "- str() is used for creating output for end user while repr() is mainly used for debugging and development. repr’s goal is to be unambiguous and str’s is to be readable. For example, if we suspect a float has a small rounding error, repr will show us while str may not.\n",
    "- repr() compute the “official” string representation of an object (a representation that has all information about the object) and str() is used to compute the “informal” string representation of an object (a representation that is useful for printing the object)."
   ]
  },
  {
   "cell_type": "code",
   "execution_count": 76,
   "metadata": {
    "slideshow": {
     "slide_type": "subslide"
    }
   },
   "outputs": [],
   "source": [
    "# __add__\n",
    "\n",
    "class Order:\n",
    "    def __init__(self, cart, customer):\n",
    "        self.cart = list(cart)\n",
    "        self.customer = customer\n",
    "\n",
    "    def __add__(self, other):\n",
    "        new_cart = self.cart.copy()\n",
    "        new_cart.append(other)\n",
    "        return Order(new_cart, self.customer)\n",
    "\n",
    "order = Order(['banana', 'apple'], 'Real Python')"
   ]
  },
  {
   "cell_type": "code",
   "execution_count": 77,
   "metadata": {
    "slideshow": {
     "slide_type": "subslide"
    }
   },
   "outputs": [
    {
     "data": {
      "text/plain": [
       "['banana', 'apple', 'orange']"
      ]
     },
     "execution_count": 77,
     "metadata": {},
     "output_type": "execute_result"
    }
   ],
   "source": [
    "(order + 'orange').cart  # New Order instance"
   ]
  },
  {
   "cell_type": "code",
   "execution_count": 78,
   "metadata": {
    "slideshow": {
     "slide_type": "fragment"
    }
   },
   "outputs": [
    {
     "data": {
      "text/plain": [
       "['banana', 'apple', 'mango']"
      ]
     },
     "execution_count": 78,
     "metadata": {},
     "output_type": "execute_result"
    }
   ],
   "source": [
    "order = order + 'mango'  # Changing the original instance\n",
    "order.cart"
   ]
  },
  {
   "cell_type": "code",
   "execution_count": 79,
   "metadata": {
    "slideshow": {
     "slide_type": "subslide"
    }
   },
   "outputs": [
    {
     "data": {
      "text/plain": [
       "['banana', 'apple', 'mango']"
      ]
     },
     "execution_count": 79,
     "metadata": {},
     "output_type": "execute_result"
    }
   ],
   "source": [
    "# __iadd__\n",
    "class Order:\n",
    "    def __init__(self, cart, customer):\n",
    "        self.cart = list(cart)\n",
    "        self.customer = customer\n",
    "\n",
    "    def __iadd__(self, other):\n",
    "        self.cart.append(other)\n",
    "        return self\n",
    "\n",
    "order = Order(['banana', 'apple'], 'Real Python')\n",
    "order += 'mango'\n",
    "order.cart"
   ]
  },
  {
   "cell_type": "code",
   "execution_count": null,
   "metadata": {
    "slideshow": {
     "slide_type": "subslide"
    }
   },
   "outputs": [],
   "source": [
    "class Order:\n",
    "    def __init__(self, cart, customer):\n",
    "        self.cart = list(cart)\n",
    "        self.customer = customer\n",
    "\n",
    "    def __getitem__(self, key):\n",
    "        return self.cart[key]\n",
    "\n",
    "order = Order(['banana', 'apple'], 'Real Python')\n",
    "order[0], order[::-1]"
   ]
  },
  {
   "cell_type": "markdown",
   "metadata": {
    "slideshow": {
     "slide_type": "subslide"
    }
   },
   "source": [
    "#### Example"
   ]
  },
  {
   "cell_type": "code",
   "execution_count": null,
   "metadata": {
    "slideshow": {
     "slide_type": "fragment"
    }
   },
   "outputs": [],
   "source": [
    "class Point:\n",
    "    def __init__(self, x=0, y=0):\n",
    "        self.x = x\n",
    "        self.y = y\n",
    "    def rotate_90_CC(self):\n",
    "        self.x, self.y = -self.y, self.x\n",
    "    def __add__(self, other):\n",
    "        return Point(self.x + other.x, self.y + other.y)\n",
    "    def __str__(self):\n",
    "        return \"Point({0}, {1})\".format(self.x, self.y)"
   ]
  },
  {
   "cell_type": "code",
   "execution_count": null,
   "metadata": {
    "slideshow": {
     "slide_type": "subslide"
    }
   },
   "outputs": [],
   "source": [
    "o = Point()\n",
    "print(o) # Point(0, 0)\n",
    "\n",
    "p1 = Point(3, 5)\n",
    "p2 = Point(4, 6)\n",
    "print(p1, p2) # Point(3, 5) Point(4, 6)\n",
    "\n",
    "p1.rotate_90_CC()\n",
    "\n",
    "print(p1) # Point(-5, 3)\n",
    "print(p1 + p2) # Point(-1, 9)"
   ]
  },
  {
   "cell_type": "markdown",
   "metadata": {
    "slideshow": {
     "slide_type": "slide"
    }
   },
   "source": [
    "https://python-course.eu/oop/magic-methods.php"
   ]
  },
  {
   "cell_type": "markdown",
   "metadata": {
    "slideshow": {
     "slide_type": "subslide"
    }
   },
   "source": [
    "### Iterators"
   ]
  },
  {
   "cell_type": "code",
   "execution_count": 80,
   "metadata": {
    "slideshow": {
     "slide_type": "fragment"
    }
   },
   "outputs": [],
   "source": [
    "class Reverse:\n",
    "    \"\"\"Iterator for looping over a sequence backwards.\"\"\"\n",
    "    def __init__(self, data):\n",
    "        self.data = data\n",
    "        self.index = len(data)\n",
    "\n",
    "    def __iter__(self):\n",
    "        return self\n",
    "\n",
    "    def __next__(self):\n",
    "        if self.index == 0:\n",
    "            raise StopIteration\n",
    "        self.index = self.index - 1\n",
    "        return self.data[self.index]"
   ]
  },
  {
   "cell_type": "code",
   "execution_count": 81,
   "metadata": {
    "slideshow": {
     "slide_type": "fragment"
    }
   },
   "outputs": [],
   "source": [
    "rev = Reverse('spam')"
   ]
  },
  {
   "cell_type": "code",
   "execution_count": 82,
   "metadata": {
    "slideshow": {
     "slide_type": "fragment"
    }
   },
   "outputs": [
    {
     "data": {
      "text/plain": [
       "<__main__.Reverse at 0x197bfceeb20>"
      ]
     },
     "execution_count": 82,
     "metadata": {},
     "output_type": "execute_result"
    }
   ],
   "source": [
    "iter(rev)"
   ]
  },
  {
   "cell_type": "code",
   "execution_count": 83,
   "metadata": {
    "slideshow": {
     "slide_type": "fragment"
    }
   },
   "outputs": [
    {
     "name": "stdout",
     "output_type": "stream",
     "text": [
      "m\n",
      "a\n",
      "p\n",
      "s\n"
     ]
    }
   ],
   "source": [
    "for char in rev:\n",
    "    print(char)"
   ]
  },
  {
   "cell_type": "markdown",
   "metadata": {
    "slideshow": {
     "slide_type": "slide"
    }
   },
   "source": [
    "## instance method / class method / static method"
   ]
  },
  {
   "cell_type": "code",
   "execution_count": null,
   "metadata": {
    "slideshow": {
     "slide_type": "subslide"
    }
   },
   "outputs": [],
   "source": [
    "class MyClass:\n",
    "    def method(self):\n",
    "        return 'instance method called', self\n",
    "\n",
    "    @classmethod\n",
    "    def classmethod(cls):\n",
    "        return 'class method called', cls\n",
    "\n",
    "    @staticmethod\n",
    "    def staticmethod():\n",
    "        return 'static method called'"
   ]
  },
  {
   "cell_type": "markdown",
   "metadata": {
    "slideshow": {
     "slide_type": "subslide"
    }
   },
   "source": [
    "### Instance Methods\n",
    "The first method on `MyClass`, called method, is a regular instance method. That’s the basic, no-frills method type you’ll use most of the time. You can see the method takes one parameter, `self`, which points to an instance of MyClass when the method is called (but of course instance methods can accept more than just one parameter).\n",
    "\n",
    "Through the self parameter, instance methods can freely access attributes and other methods on the same object. This gives them a lot of power when it comes to modifying an object’s state.\n",
    "\n",
    "Not only can they modify object state, instance methods can also access the class itself through the `self.__class__` attribute. This means instance methods can also modify class state."
   ]
  },
  {
   "cell_type": "markdown",
   "metadata": {
    "slideshow": {
     "slide_type": "subslide"
    }
   },
   "source": [
    "### Class Methods\n",
    "Let’s compare that to the second method, MyClass.classmethod. I marked this method with a `@classmethod` decorator to flag it as a class method.\n",
    "\n",
    "Instead of accepting a `self` parameter, class methods take a `cls` parameter that points to the class — and not the object instance — when the method is called.\n",
    "\n",
    "Because the class method only has access to this `cls` argument, it can’t modify object instance state. That would require access to `self.` However, class methods can still modify class state that applies across all instances of the class.\n",
    "\n",
    "**The biggest reason for using a @classmethod is in an alternate constructor that is intended to be inherited**"
   ]
  },
  {
   "cell_type": "code",
   "execution_count": null,
   "metadata": {
    "slideshow": {
     "slide_type": "subslide"
    }
   },
   "outputs": [],
   "source": [
    "class Pizza:\n",
    "    def __init__(self, ingredients):\n",
    "        self.ingredients = ingredients\n",
    "\n",
    "    def __repr__(self):\n",
    "        return f'Pizza({self.ingredients!r})'\n",
    "\n",
    "    @classmethod\n",
    "    def margherita(cls):\n",
    "        return cls(['mozzarella', 'tomatoes'])\n",
    "\n",
    "    @classmethod\n",
    "    def prosciutto(cls):\n",
    "        return cls(['mozzarella', 'tomatoes', 'ham'])"
   ]
  },
  {
   "cell_type": "code",
   "execution_count": null,
   "metadata": {
    "slideshow": {
     "slide_type": "fragment"
    }
   },
   "outputs": [],
   "source": [
    ">>> Pizza.margherita()\n",
    "Pizza(['mozzarella', 'tomatoes'])\n",
    "\n",
    ">>> Pizza.prosciutto()\n",
    "Pizza(['mozzarella', 'tomatoes', 'ham'])"
   ]
  },
  {
   "cell_type": "markdown",
   "metadata": {
    "slideshow": {
     "slide_type": "subslide"
    }
   },
   "source": [
    "### Static Methods\n",
    "The third method, `MyClass.staticmethod` was marked with a `@staticmethod` decorator to flag it as a static method.\n",
    "\n",
    "This type of method takes neither a `self` nor a `cls` parameter (but of course it’s free to accept an arbitrary number of other parameters).\n",
    "\n",
    "Therefore a static method can neither modify object state nor class state. Static methods are restricted in what data they can access - and they’re primarily a way to namespace your methods."
   ]
  },
  {
   "cell_type": "code",
   "execution_count": null,
   "metadata": {
    "slideshow": {
     "slide_type": "subslide"
    }
   },
   "outputs": [],
   "source": [
    "import math\n",
    "\n",
    "class Pizza:\n",
    "    def __init__(self, radius, ingredients):\n",
    "        self.radius = radius\n",
    "        self.ingredients = ingredients\n",
    "\n",
    "    def __repr__(self):\n",
    "        return (f'Pizza({self.radius!r}, '\n",
    "                f'{self.ingredients!r})')\n",
    "\n",
    "    def area(self):\n",
    "        return self.circle_area(self.radius)\n",
    "\n",
    "    @staticmethod\n",
    "    def circle_area(r):\n",
    "        return r ** 2 * math.pi"
   ]
  },
  {
   "cell_type": "code",
   "execution_count": null,
   "metadata": {
    "slideshow": {
     "slide_type": "fragment"
    }
   },
   "outputs": [],
   "source": [
    ">>> p = Pizza(4, ['mozzarella', 'tomatoes'])\n",
    ">>> p\n",
    "Pizza(4, ['mozzarella', 'tomatoes'])\n",
    ">>> p.area()\n",
    "50.26548245743669\n",
    ">>> Pizza.circle_area(4)\n",
    "50.26548245743669"
   ]
  },
  {
   "cell_type": "markdown",
   "metadata": {
    "slideshow": {
     "slide_type": "slide"
    }
   },
   "source": [
    "## Errors and Exceptions"
   ]
  },
  {
   "cell_type": "markdown",
   "metadata": {
    "slideshow": {
     "slide_type": "subslide"
    }
   },
   "source": [
    "### Errors before execution"
   ]
  },
  {
   "cell_type": "code",
   "execution_count": 84,
   "metadata": {
    "slideshow": {
     "slide_type": "subslide"
    }
   },
   "outputs": [
    {
     "ename": "SyntaxError",
     "evalue": "invalid syntax (Temp/ipykernel_1380/2884618176.py, line 1)",
     "output_type": "error",
     "traceback": [
      "\u001b[1;36m  File \u001b[1;32m\"C:\\Users\\krzys\\AppData\\Local\\Temp/ipykernel_1380/2884618176.py\"\u001b[1;36m, line \u001b[1;32m1\u001b[0m\n\u001b[1;33m    while True print('Hello world')\u001b[0m\n\u001b[1;37m               ^\u001b[0m\n\u001b[1;31mSyntaxError\u001b[0m\u001b[1;31m:\u001b[0m invalid syntax\n"
     ]
    }
   ],
   "source": [
    "while True print('Hello world')"
   ]
  },
  {
   "cell_type": "markdown",
   "metadata": {
    "slideshow": {
     "slide_type": "subslide"
    }
   },
   "source": [
    "### Errors during execution"
   ]
  },
  {
   "cell_type": "code",
   "execution_count": 85,
   "metadata": {
    "slideshow": {
     "slide_type": "subslide"
    }
   },
   "outputs": [
    {
     "ename": "ZeroDivisionError",
     "evalue": "division by zero",
     "output_type": "error",
     "traceback": [
      "\u001b[1;31m---------------------------------------------------------------------------\u001b[0m",
      "\u001b[1;31mZeroDivisionError\u001b[0m                         Traceback (most recent call last)",
      "\u001b[1;32m~\\AppData\\Local\\Temp/ipykernel_1380/734848216.py\u001b[0m in \u001b[0;36m<module>\u001b[1;34m\u001b[0m\n\u001b[1;32m----> 1\u001b[1;33m \u001b[1;36m10\u001b[0m \u001b[1;33m*\u001b[0m \u001b[1;33m(\u001b[0m\u001b[1;36m1\u001b[0m\u001b[1;33m/\u001b[0m\u001b[1;36m0\u001b[0m\u001b[1;33m)\u001b[0m\u001b[1;33m\u001b[0m\u001b[1;33m\u001b[0m\u001b[0m\n\u001b[0m",
      "\u001b[1;31mZeroDivisionError\u001b[0m: division by zero"
     ]
    }
   ],
   "source": [
    "10 * (1/0)"
   ]
  },
  {
   "cell_type": "code",
   "execution_count": 86,
   "metadata": {
    "slideshow": {
     "slide_type": "subslide"
    }
   },
   "outputs": [
    {
     "ename": "NameError",
     "evalue": "name 'spam' is not defined",
     "output_type": "error",
     "traceback": [
      "\u001b[1;31m---------------------------------------------------------------------------\u001b[0m",
      "\u001b[1;31mNameError\u001b[0m                                 Traceback (most recent call last)",
      "\u001b[1;32m~\\AppData\\Local\\Temp/ipykernel_1380/2481180859.py\u001b[0m in \u001b[0;36m<module>\u001b[1;34m\u001b[0m\n\u001b[1;32m----> 1\u001b[1;33m \u001b[1;36m4\u001b[0m \u001b[1;33m+\u001b[0m \u001b[0mspam\u001b[0m\u001b[1;33m*\u001b[0m\u001b[1;36m3\u001b[0m\u001b[1;33m\u001b[0m\u001b[1;33m\u001b[0m\u001b[0m\n\u001b[0m",
      "\u001b[1;31mNameError\u001b[0m: name 'spam' is not defined"
     ]
    }
   ],
   "source": [
    "4 + spam*3"
   ]
  },
  {
   "cell_type": "code",
   "execution_count": 87,
   "metadata": {
    "slideshow": {
     "slide_type": "subslide"
    }
   },
   "outputs": [
    {
     "ename": "TypeError",
     "evalue": "can only concatenate str (not \"int\") to str",
     "output_type": "error",
     "traceback": [
      "\u001b[1;31m---------------------------------------------------------------------------\u001b[0m",
      "\u001b[1;31mTypeError\u001b[0m                                 Traceback (most recent call last)",
      "\u001b[1;32m~\\AppData\\Local\\Temp/ipykernel_1380/209420021.py\u001b[0m in \u001b[0;36m<module>\u001b[1;34m\u001b[0m\n\u001b[1;32m----> 1\u001b[1;33m \u001b[1;34m'2'\u001b[0m \u001b[1;33m+\u001b[0m \u001b[1;36m2\u001b[0m\u001b[1;33m\u001b[0m\u001b[1;33m\u001b[0m\u001b[0m\n\u001b[0m",
      "\u001b[1;31mTypeError\u001b[0m: can only concatenate str (not \"int\") to str"
     ]
    }
   ],
   "source": [
    "'2' + 2"
   ]
  },
  {
   "cell_type": "markdown",
   "metadata": {
    "slideshow": {
     "slide_type": "subslide"
    }
   },
   "source": [
    "## And many more...\n",
    "\n",
    "[ Built-in Exceptions - Exception hierarchy](https://docs.python.org/3/library/exceptions.html#exception-hierarchy)"
   ]
  },
  {
   "cell_type": "markdown",
   "metadata": {
    "slideshow": {
     "slide_type": "subslide"
    }
   },
   "source": [
    "## Handling Exceptions"
   ]
  },
  {
   "cell_type": "code",
   "execution_count": 88,
   "metadata": {
    "slideshow": {
     "slide_type": "subslide"
    }
   },
   "outputs": [],
   "source": [
    "def read_int():\n",
    "    \"\"\"Reads an integer from the user (broken)\"\"\"\n",
    "    return int(input(\"Please enter a number: \"))"
   ]
  },
  {
   "cell_type": "code",
   "execution_count": null,
   "metadata": {
    "slideshow": {
     "slide_type": "fragment"
    }
   },
   "outputs": [],
   "source": [
    "What happens if the user enters a nonnumeric input?"
   ]
  },
  {
   "cell_type": "code",
   "execution_count": null,
   "metadata": {
    "slideshow": {
     "slide_type": "subslide"
    }
   },
   "outputs": [],
   "source": [
    "def read_int():\n",
    "    \"\"\"Reads an integer from the user (fixed)\"\"\"\n",
    "    while True:\n",
    "        try:\n",
    "            x = int(input(\"Please enter a number: \"))\n",
    "            break\n",
    "        except ValueError:\n",
    "            print(\"Oops! Invalid input. Try again...\")\n",
    "    return x"
   ]
  },
  {
   "cell_type": "markdown",
   "metadata": {
    "slideshow": {
     "slide_type": "subslide"
    }
   },
   "source": [
    "### Mechanics of try statement"
   ]
  },
  {
   "cell_type": "markdown",
   "metadata": {
    "slideshow": {
     "slide_type": "fragment"
    }
   },
   "source": [
    "- Attempt to execute the try clause\n",
    "\n",
    "then \n",
    "\n",
    "- If no exception occurs, skip the except clause. Done!\n",
    "- If an exception occurs, skip the rest of the try clause.\n",
    "    - If the exception's type matches (/ is a subclass of) that named by except, then execute the except clause. Done!\n",
    "    - Otherwise, hand off the exception to any outer try statements. If unhandled, halt execution. Done!"
   ]
  },
  {
   "cell_type": "code",
   "execution_count": null,
   "metadata": {},
   "outputs": [],
   "source": [
    "try:\n",
    "    distance = int(input(\"How far? \"))\n",
    "    time = car.speed / distance\n",
    "    car.drive(time)\n",
    "except ValueError as e: # Bind a name to the exception instance\n",
    "    print(e)\n",
    "except ZeroDivisionError:\n",
    "    print(\"Division by zero!\")\n",
    "except (NameError, AttributeError): # Catch multiple exceptions\n",
    "    print(\"Bad Car\")\n",
    "except: # \"Wildcard\" catches everything\n",
    "    print(\"Car unexpectedly crashed!\")"
   ]
  },
  {
   "cell_type": "code",
   "execution_count": null,
   "metadata": {
    "slideshow": {
     "slide_type": "subslide"
    }
   },
   "outputs": [],
   "source": [
    "def read_int():\n",
    "    \"\"\"Reads an integer from the user (fixed?)\"\"\"\n",
    "    while True:\n",
    "        try:\n",
    "            x = int(input(\"Please enter a number: \"))\n",
    "            break\n",
    "        except: # catch all exceptions\n",
    "            print(\"Oops! Invalid input. Try again...\")\n",
    "    return x"
   ]
  },
  {
   "cell_type": "markdown",
   "metadata": {
    "slideshow": {
     "slide_type": "slide"
    }
   },
   "source": [
    "## Raising Exceptions"
   ]
  },
  {
   "cell_type": "code",
   "execution_count": 89,
   "metadata": {
    "slideshow": {
     "slide_type": "subslide"
    }
   },
   "outputs": [
    {
     "ename": "NameError",
     "evalue": "Why hello there!",
     "output_type": "error",
     "traceback": [
      "\u001b[1;31m---------------------------------------------------------------------------\u001b[0m",
      "\u001b[1;31mNameError\u001b[0m                                 Traceback (most recent call last)",
      "\u001b[1;32m~\\AppData\\Local\\Temp/ipykernel_1380/3878363970.py\u001b[0m in \u001b[0;36m<module>\u001b[1;34m\u001b[0m\n\u001b[1;32m----> 1\u001b[1;33m \u001b[1;32mraise\u001b[0m \u001b[0mNameError\u001b[0m\u001b[1;33m(\u001b[0m\u001b[1;34m'Why hello there!'\u001b[0m\u001b[1;33m)\u001b[0m\u001b[1;33m\u001b[0m\u001b[1;33m\u001b[0m\u001b[0m\n\u001b[0m",
      "\u001b[1;31mNameError\u001b[0m: Why hello there!"
     ]
    }
   ],
   "source": [
    "raise NameError('Why hello there!')"
   ]
  },
  {
   "cell_type": "code",
   "execution_count": 90,
   "metadata": {
    "slideshow": {
     "slide_type": "subslide"
    }
   },
   "outputs": [
    {
     "ename": "NameError",
     "evalue": "",
     "output_type": "error",
     "traceback": [
      "\u001b[1;31m---------------------------------------------------------------------------\u001b[0m",
      "\u001b[1;31mNameError\u001b[0m                                 Traceback (most recent call last)",
      "\u001b[1;32m~\\AppData\\Local\\Temp/ipykernel_1380/1567631431.py\u001b[0m in \u001b[0;36m<module>\u001b[1;34m\u001b[0m\n\u001b[1;32m----> 1\u001b[1;33m \u001b[1;32mraise\u001b[0m \u001b[0mNameError\u001b[0m\u001b[1;33m\u001b[0m\u001b[1;33m\u001b[0m\u001b[0m\n\u001b[0m",
      "\u001b[1;31mNameError\u001b[0m: "
     ]
    }
   ],
   "source": [
    "raise NameError"
   ]
  },
  {
   "cell_type": "code",
   "execution_count": 91,
   "metadata": {
    "slideshow": {
     "slide_type": "subslide"
    }
   },
   "outputs": [
    {
     "name": "stdout",
     "output_type": "stream",
     "text": [
      "Looks like an exception to me!\n"
     ]
    },
    {
     "ename": "NotImplementedError",
     "evalue": "TODO",
     "output_type": "error",
     "traceback": [
      "\u001b[1;31m---------------------------------------------------------------------------\u001b[0m",
      "\u001b[1;31mNotImplementedError\u001b[0m                       Traceback (most recent call last)",
      "\u001b[1;32m~\\AppData\\Local\\Temp/ipykernel_1380/1674946620.py\u001b[0m in \u001b[0;36m<module>\u001b[1;34m\u001b[0m\n\u001b[0;32m      1\u001b[0m \u001b[1;32mtry\u001b[0m\u001b[1;33m:\u001b[0m\u001b[1;33m\u001b[0m\u001b[1;33m\u001b[0m\u001b[0m\n\u001b[1;32m----> 2\u001b[1;33m     \u001b[1;32mraise\u001b[0m \u001b[0mNotImplementedError\u001b[0m\u001b[1;33m(\u001b[0m\u001b[1;34m\"TODO\"\u001b[0m\u001b[1;33m)\u001b[0m\u001b[1;33m\u001b[0m\u001b[1;33m\u001b[0m\u001b[0m\n\u001b[0m\u001b[0;32m      3\u001b[0m \u001b[1;32mexcept\u001b[0m \u001b[0mNotImplementedError\u001b[0m\u001b[1;33m:\u001b[0m\u001b[1;33m\u001b[0m\u001b[1;33m\u001b[0m\u001b[0m\n\u001b[0;32m      4\u001b[0m     \u001b[0mprint\u001b[0m\u001b[1;33m(\u001b[0m\u001b[1;34m'Looks like an exception to me!'\u001b[0m\u001b[1;33m)\u001b[0m\u001b[1;33m\u001b[0m\u001b[1;33m\u001b[0m\u001b[0m\n\u001b[0;32m      5\u001b[0m     \u001b[1;32mraise\u001b[0m\u001b[1;33m\u001b[0m\u001b[1;33m\u001b[0m\u001b[0m\n",
      "\u001b[1;31mNotImplementedError\u001b[0m: TODO"
     ]
    }
   ],
   "source": [
    "try:\n",
    "    raise NotImplementedError(\"TODO\")\n",
    "except NotImplementedError:\n",
    "    print('Looks like an exception to me!')\n",
    "    raise\n",
    "# Looks like an exception to me!\n",
    "# Traceback (most recent call last):\n",
    "# File \"<stdin>\", line 2, in <module>\n",
    "# NotImplementedError: TODO"
   ]
  },
  {
   "cell_type": "markdown",
   "metadata": {
    "slideshow": {
     "slide_type": "slide"
    }
   },
   "source": [
    "## Using `else`"
   ]
  },
  {
   "cell_type": "code",
   "execution_count": null,
   "metadata": {
    "slideshow": {
     "slide_type": "fragment"
    }
   },
   "outputs": [],
   "source": [
    "try:\n",
    "    # ...\n",
    "except ...:\n",
    "    # ...\n",
    "else:  # Code that executes if the try clause does not raise an exception\n",
    "    do_something()"
   ]
  },
  {
   "cell_type": "markdown",
   "metadata": {
    "slideshow": {
     "slide_type": "fragment"
    }
   },
   "source": [
    "> Why? Avoid accidentally catching an exception raised by something other than the code being protected"
   ]
  },
  {
   "cell_type": "code",
   "execution_count": null,
   "metadata": {
    "slideshow": {
     "slide_type": "subslide"
    }
   },
   "outputs": [],
   "source": [
    "try:\n",
    "    update_the_database()\n",
    "except TransactionError:\n",
    "    rollback()\n",
    "    raise\n",
    "else:\n",
    "    commit()"
   ]
  },
  {
   "cell_type": "markdown",
   "metadata": {
    "slideshow": {
     "slide_type": "subslide"
    }
   },
   "source": [
    "Same usefull tips:\n",
    "    \n",
    "- Don't check if a file exists, then open it.\n",
    "    - Just try to open it!\n",
    "    - Handle exceptional cases with an except clause (or two) (avoids race conditions too)\n",
    "- Don't check if a queue is nonempty before popping\n",
    "    - Just try to pop the element!"
   ]
  },
  {
   "cell_type": "markdown",
   "metadata": {
    "slideshow": {
     "slide_type": "subslide"
    }
   },
   "source": [
    "## Custom Exceptions"
   ]
  },
  {
   "cell_type": "code",
   "execution_count": null,
   "metadata": {
    "slideshow": {
     "slide_type": "subslide"
    }
   },
   "outputs": [],
   "source": [
    "class Error(Exception):\n",
    "    \"\"\"Base class for errors in this module.\"\"\"\n",
    "    pass\n",
    "class BadLoginError(Error):\n",
    "    \"\"\"A user attempted to login with\n",
    "    an incorrect password.\"\"\"\n",
    "    pass"
   ]
  },
  {
   "cell_type": "code",
   "execution_count": null,
   "metadata": {},
   "outputs": [],
   "source": [
    "UNDEFINED = object()\n",
    "def divide_json(path):\n",
    "    handle = open(path, ‘r+’) # May raise IOError\n",
    "    try:\n",
    "        data = handle.read() # May raise UnicodeDecodeError\n",
    "        op = json.loads(data) # May raise ValueError\n",
    "        value = (\n",
    "        op[‘numerator’] /\n",
    "        op[‘denominator’]) # May raise ZeroDivisionError\n",
    "    except ZeroDivisionError as e:\n",
    "        return UNDEFINED\n",
    "    else:\n",
    "        op[‘result’] = value\n",
    "        result = json.dumps(op)\n",
    "        handle.seek(0)\n",
    "        handle.write(result) # May raise IOError\n",
    "        return value\n",
    "    finally:\n",
    "        handle.close() # Always runs\n"
   ]
  },
  {
   "cell_type": "code",
   "execution_count": null,
   "metadata": {},
   "outputs": [],
   "source": [
    "def load_json_key(data, key):\n",
    "    try:\n",
    "        result_dict = json.loads(data) # May raise ValueError\n",
    "    except ValueError as e:\n",
    "        raise KeyError from e\n",
    "    else:\n",
    "        return result_dict[key] # May raise KeyError"
   ]
  },
  {
   "cell_type": "markdown",
   "metadata": {
    "slideshow": {
     "slide_type": "slide"
    }
   },
   "source": [
    "## Clean-Up Actions"
   ]
  },
  {
   "cell_type": "markdown",
   "metadata": {
    "slideshow": {
     "slide_type": "fragment"
    }
   },
   "source": [
    "The `finally` clause"
   ]
  },
  {
   "cell_type": "code",
   "execution_count": null,
   "metadata": {
    "slideshow": {
     "slide_type": "fragment"
    }
   },
   "outputs": [],
   "source": [
    "try:\n",
    "    raise NotImplementedError\n",
    "finally:\n",
    "    print('Goodbye, world!')\n",
    "# Goodbye, world!\n",
    "# Traceback (most recent call last):\n",
    "# File \"<stdin>\", line 2, in <module>\n",
    "# NotImplementedError"
   ]
  },
  {
   "cell_type": "markdown",
   "metadata": {
    "slideshow": {
     "slide_type": "subslide"
    }
   },
   "source": [
    "#### How finally works"
   ]
  },
  {
   "cell_type": "markdown",
   "metadata": {
    "slideshow": {
     "slide_type": "fragment"
    }
   },
   "source": [
    "- Always executed before leaving the try statement.\n",
    "- Unhandled exceptions (not caught, or raised in except) are re-raised after finally executes.\n",
    "- Also executed \"on the way out\" (break, continue, return)"
   ]
  },
  {
   "cell_type": "code",
   "execution_count": null,
   "metadata": {
    "slideshow": {
     "slide_type": "subslide"
    }
   },
   "outputs": [],
   "source": [
    "# This is what enables us to use with ... as ...\n",
    "with open(filename) as f:\n",
    "    raw = f.read()\n",
    "\n",
    "# is (almost) equivalent to\n",
    "f = open(filename)\n",
    "f.__enter__()\n",
    "try:\n",
    "    raw = f.read()\n",
    "finally:\n",
    "    f.__exit__() # Closes the file"
   ]
  },
  {
   "cell_type": "markdown",
   "metadata": {
    "slideshow": {
     "slide_type": "slide"
    }
   },
   "source": [
    "## You can do this better"
   ]
  },
  {
   "cell_type": "code",
   "execution_count": null,
   "metadata": {
    "slideshow": {
     "slide_type": "subslide"
    }
   },
   "outputs": [],
   "source": [
    "def divide(a, b):\n",
    "    try:\n",
    "        return a / b\n",
    "    except ZeroDivisionError:\n",
    "        return None"
   ]
  },
  {
   "cell_type": "code",
   "execution_count": null,
   "metadata": {
    "slideshow": {
     "slide_type": "fragment"
    }
   },
   "outputs": [],
   "source": [
    "result = divide(x, y)\n",
    "if result is None:\n",
    "    print('Invalid inputs')\n",
    "else:\n",
    "    print(x, y, result)"
   ]
  },
  {
   "cell_type": "markdown",
   "metadata": {
    "slideshow": {
     "slide_type": "subslide"
    }
   },
   "source": [
    "... better way"
   ]
  },
  {
   "cell_type": "code",
   "execution_count": null,
   "metadata": {
    "slideshow": {
     "slide_type": "fragment"
    }
   },
   "outputs": [],
   "source": [
    "def divide(a, b):\n",
    "    try:\n",
    "        return True, a / b\n",
    "    except ZeroDivisionError:\n",
    "        return False, None"
   ]
  },
  {
   "cell_type": "code",
   "execution_count": null,
   "metadata": {
    "slideshow": {
     "slide_type": "fragment"
    }
   },
   "outputs": [],
   "source": [
    "success, result = divide(x, y)\n",
    "if not success:\n",
    "    print(‘Invalid inputs’)\n",
    "else:\n",
    "    print(x, y, result)"
   ]
  },
  {
   "cell_type": "markdown",
   "metadata": {
    "slideshow": {
     "slide_type": "subslide"
    }
   },
   "source": [
    "... or even better"
   ]
  },
  {
   "cell_type": "code",
   "execution_count": null,
   "metadata": {
    "slideshow": {
     "slide_type": "fragment"
    }
   },
   "outputs": [],
   "source": [
    "def divide(a, b):\n",
    "    try:\n",
    "        return a / b\n",
    "    except ZeroDivisionError as e:\n",
    "        raise ValueError(‘Invalid inputs’) from e"
   ]
  },
  {
   "cell_type": "code",
   "execution_count": null,
   "metadata": {
    "slideshow": {
     "slide_type": "fragment"
    }
   },
   "outputs": [],
   "source": [
    "x, y = 5, 2\n",
    "try:\n",
    "    result = divide(x, y)\n",
    "except ValueError:\n",
    "    print(‘Invalid inputs’)\n",
    "else:\n",
    "    print(‘Result is %.1f’ % result)"
   ]
  },
  {
   "cell_type": "markdown",
   "metadata": {
    "slideshow": {
     "slide_type": "slide"
    }
   },
   "source": [
    "## with"
   ]
  },
  {
   "cell_type": "code",
   "execution_count": null,
   "metadata": {
    "slideshow": {
     "slide_type": "fragment"
    }
   },
   "outputs": [],
   "source": [
    "with open(\"poem.txt\", \"r\") as f:\n",
    "    for line in f:\n",
    "        print(line, end='')"
   ]
  },
  {
   "cell_type": "markdown",
   "metadata": {
    "slideshow": {
     "slide_type": "subslide"
    }
   },
   "source": [
    "What happens behind the scenes is that there is a protocol used by the with statement. It fetches the object returned by the open statement, let's call it `f` in this case.\n",
    "\n",
    "It always calls the `f.__enter__` function before starting the block of code under it and always calls `f.__exit__` after finishing the block of code.\n",
    "\n",
    "So the code that we would have written in a finally block should be taken care of automatically by the `__exit__` method. This is what helps us to avoid having to use explicit `try..finally` statements repeatedly."
   ]
  },
  {
   "cell_type": "markdown",
   "metadata": {
    "slideshow": {
     "slide_type": "slide"
    }
   },
   "source": [
    "## Context Manager"
   ]
  },
  {
   "cell_type": "code",
   "execution_count": 92,
   "metadata": {
    "slideshow": {
     "slide_type": "subslide"
    }
   },
   "outputs": [
    {
     "name": "stdout",
     "output_type": "stream",
     "text": [
      "init method called\n",
      "enter method called\n",
      "with statement block\n",
      "exit method called\n"
     ]
    }
   ],
   "source": [
    "class ContextManager():\n",
    "    def __init__(self):\n",
    "        print('init method called')\n",
    "         \n",
    "    def __enter__(self):\n",
    "        print('enter method called')\n",
    "        return self\n",
    "     \n",
    "    def __exit__(self, exc_type, exc_value, exc_traceback):\n",
    "        print('exit method called')\n",
    " \n",
    "with ContextManager() as manager:\n",
    "    print('with statement block')"
   ]
  },
  {
   "cell_type": "code",
   "execution_count": null,
   "metadata": {
    "slideshow": {
     "slide_type": "subslide"
    }
   },
   "outputs": [],
   "source": [
    "class FileManager():\n",
    "    def __init__(self, filename, mode):\n",
    "        self.filename = filename\n",
    "        self.mode = mode\n",
    "        self.file = None\n",
    "         \n",
    "    def __enter__(self):\n",
    "        self.file = open(self.filename, self.mode)\n",
    "        return self.file\n",
    "     \n",
    "    def __exit__(self, exc_type, exc_value, exc_traceback):\n",
    "        self.file.close()\n",
    " \n",
    "# loading a file\n",
    "with FileManager('test.txt', 'w') as f:\n",
    "    f.write('Test')\n",
    " \n",
    "print(f.closed)"
   ]
  },
  {
   "cell_type": "markdown",
   "metadata": {
    "slideshow": {
     "slide_type": "subslide"
    }
   },
   "source": [
    "## Metaclass\n",
    "\n",
    "https://realpython.com/python-data-classes/"
   ]
  },
  {
   "cell_type": "markdown",
   "metadata": {
    "slideshow": {
     "slide_type": "slide"
    }
   },
   "source": [
    "## Data Classes in Python"
   ]
  },
  {
   "cell_type": "code",
   "execution_count": null,
   "metadata": {
    "slideshow": {
     "slide_type": "subslide"
    }
   },
   "outputs": [],
   "source": [
    "from dataclasses import dataclass\n",
    "\n",
    "@dataclass\n",
    "class Position:\n",
    "    name: str\n",
    "    lon: float\n",
    "    lat: float"
   ]
  },
  {
   "cell_type": "code",
   "execution_count": null,
   "metadata": {
    "slideshow": {
     "slide_type": "subslide"
    }
   },
   "outputs": [],
   "source": [
    "pos = Position('Oslo', 10.8, 59.9)\n",
    "print(pos)"
   ]
  },
  {
   "cell_type": "code",
   "execution_count": null,
   "metadata": {
    "slideshow": {
     "slide_type": "subslide"
    }
   },
   "outputs": [],
   "source": [
    "print(f'{pos.name} is at {pos.lat}°N, {pos.lon}°E')"
   ]
  },
  {
   "cell_type": "markdown",
   "metadata": {
    "slideshow": {
     "slide_type": "subslide"
    }
   },
   "source": [
    "https://realpython.com/python-data-classes/"
   ]
  }
 ],
 "metadata": {
  "celltoolbar": "Slideshow",
  "kernelspec": {
   "display_name": "Python 3 (ipykernel)",
   "language": "python",
   "name": "python3"
  },
  "language_info": {
   "codemirror_mode": {
    "name": "ipython",
    "version": 3
   },
   "file_extension": ".py",
   "mimetype": "text/x-python",
   "name": "python",
   "nbconvert_exporter": "python",
   "pygments_lexer": "ipython3",
   "version": "3.9.9"
  }
 },
 "nbformat": 4,
 "nbformat_minor": 2
}
